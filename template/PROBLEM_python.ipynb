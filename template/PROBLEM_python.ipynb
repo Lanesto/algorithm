{
 "cells": [
  {
   "cell_type": "code",
   "execution_count": 1,
   "metadata": {
    "scrolled": false
   },
   "outputs": [],
   "source": [
    "# Add path candidates to sys.path to import utility / helper modules\n",
    "import sys\n",
    "sys.path.append('/workspace')"
   ]
  },
  {
   "cell_type": "code",
   "execution_count": 2,
   "metadata": {},
   "outputs": [],
   "source": [
    "%load_ext pycodestyle_magic\n",
    "%pycodestyle_on"
   ]
  },
  {
   "cell_type": "code",
   "execution_count": 3,
   "metadata": {},
   "outputs": [
    {
     "output_type": "stream",
     "name": "stdout",
     "text": [
      "--- expected\n+++ output\n@@ -1,3 +1,3 @@\n-o--o\n---o-ooo-oooo\n-------oooo+8\n+45\n+25\n"
     ]
    }
   ],
   "source": [
    "\"\"\"\n",
    "Version 1:\n",
    "- used methods:\n",
    "\n",
    "\"\"\"\n",
    "from functools import lru_cache\n",
    "\n",
    "INF = float('inf')\n",
    "\n",
    "\n",
    "# Solution\n",
    "def solution(n, m, k):\n",
    "    return n * m + k\n",
    "\n",
    "\n",
    "# Main I/O part\n",
    "def main(rl):\n",
    "    C = int(rl())\n",
    "    for _ in range(C):\n",
    "        n, m, k = map(int, rl().split())\n",
    "        result = solution(n, m, k)\n",
    "        print(result)\n",
    "\n",
    "\n",
    "# Additional codes to simulate I/O\n",
    "try:\n",
    "    import IPython\n",
    "except ImportError as _:\n",
    "    # Submit env\n",
    "    import sys\n",
    "    main(sys.stdin.readline)\n",
    "else:\n",
    "    from helpers import runner\n",
    "    # IPython env\n",
    "    runner.run(main)"
   ]
  },
  {
   "cell_type": "code",
   "execution_count": 4,
   "metadata": {
    "tags": []
   },
   "outputs": [
    {
     "output_type": "stream",
     "name": "stdout",
     "text": [
      "[0.00000150] solution(2, 2, 4) → 8\nCase 1 PASS\n\n         4 function calls in 0.000 seconds\n\n   Ordered by: standard name\n\n   ncalls  tottime  percall  cumtime  percall filename:lineno(function)\n        1    0.000    0.000    0.000    0.000 <ipython-input-3-d25373aa1f62>:12(solution)\n        1    0.000    0.000    0.000    0.000 <string>:1(<module>)\n        1    0.000    0.000    0.000    0.000 {built-in method builtins.exec}\n        1    0.000    0.000    0.000    0.000 {method 'disable' of '_lsprof.Profiler' objects}\n\n\n\n[0.00000140] solution(4, 8, 13) → 45\nCase 2 PASS\n\n[0.00000090] solution(6, 4, 1) → 25\nCase 3 FAIL: wants 26 but got 25\n\n    Traceback (most recent call last):\n      File \"/workspace/helpers/testing.py\", line 119, in run\n        f'wants {expected!r:.40} but got {result!r:.40}'\n    AssertionError: wants 26 but got 25\n    \n\nCase 4 FAIL: unsupported keys: error\n\n1 out of 4 test(s) failed: 3\n"
     ]
    }
   ],
   "source": [
    "\"\"\"\n",
    "Testing\n",
    "\n",
    "\"\"\"\n",
    "import cProfile\n",
    "import traceback\n",
    "from helpers import testing\n",
    "\n",
    "\n",
    "def epsilon(a, b):\n",
    "    return abs(b - a) < 10e-8\n",
    "\n",
    "\n",
    "test_cases = [\n",
    "    {\n",
    "        'input': [2, 2, 4],\n",
    "        'expected': 8,\n",
    "        'oracle': epsilon,\n",
    "        'verbose': True,\n",
    "    },\n",
    "    {\n",
    "        'input': [4, 8, 13],\n",
    "        'expected': 45,\n",
    "    },\n",
    "    {\n",
    "        'input': [6, 4, 1],\n",
    "        'expected': 26,\n",
    "    },\n",
    "    {\n",
    "        'input': [1],\n",
    "        'expected': 1,\n",
    "        'error': False,\n",
    "    }\n",
    "]\n",
    "\n",
    "testing.run(solution, test_cases)"
   ]
  },
  {
   "cell_type": "code",
   "execution_count": null,
   "metadata": {},
   "outputs": [],
   "source": []
  }
 ],
 "metadata": {
  "kernelspec": {
   "name": "python3",
   "display_name": "Python 3.7.3 64-bit",
   "metadata": {
    "interpreter": {
     "hash": "31f2aee4e71d21fbe5cf8b01ff0e069b9275f58929596ceb00d14d90e3e16cd6"
    }
   }
  },
  "language_info": {
   "codemirror_mode": {
    "name": "ipython",
    "version": 3
   },
   "file_extension": ".py",
   "mimetype": "text/x-python",
   "name": "python",
   "nbconvert_exporter": "python",
   "pygments_lexer": "ipython3",
   "version": "3.7.3-final"
  }
 },
 "nbformat": 4,
 "nbformat_minor": 2
}