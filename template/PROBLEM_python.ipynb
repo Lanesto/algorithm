{
 "cells": [
  {
   "cell_type": "code",
   "execution_count": 1,
   "metadata": {
    "scrolled": false
   },
   "outputs": [],
   "source": [
    "# Add path candidates to sys.path to import utility / helper modules\n",
    "import sys\n",
    "sys.path.append('/workspace')"
   ]
  },
  {
   "cell_type": "code",
   "execution_count": 2,
   "metadata": {},
   "outputs": [],
   "source": [
    "%load_ext pycodestyle_magic\n",
    "%pycodestyle_on"
   ]
  },
  {
   "cell_type": "code",
   "execution_count": 3,
   "metadata": {},
   "outputs": [],
   "source": [
    "\"\"\"\n",
    "Quick testing with existing data files\n",
    "\n",
    "\"\"\"\n",
    "from contextlib import redirect_stdout\n",
    "from difflib import unified_diff\n",
    "from io import StringIO\n",
    "from pathlib import Path\n",
    "from re import findall\n",
    "\n",
    "\n",
    "# Run main() with data files and prints out differences between\n",
    "# expected data and output\n",
    "def run(main):\n",
    "    # Lookup data file with directory name\n",
    "    cwd = Path.cwd()\n",
    "    data = cwd / f'{cwd.name}.dat'\n",
    "\n",
    "    # If <working_directory_name>.dat is not found\n",
    "    # then find any first data file in working directory\n",
    "    if not data.exists():\n",
    "        data = None\n",
    "        for child in cwd.iterdir():\n",
    "            if child.name.endswith('.dat'):\n",
    "                data = child\n",
    "                break\n",
    "\n",
    "    # If there is no data file, do panic\n",
    "    if data is None:\n",
    "        raise FileNotFoundError('.dat file is not found')\n",
    "\n",
    "    # Read data file and mock stdin with StringIO\n",
    "    with data.open(mode='r', encoding='utf-8') as fp:\n",
    "        data = fp.read()\n",
    "        input = findall(r'^\\[in\\]([\\d\\w\\s]*)\\[out\\]', data)[0]\n",
    "        ifs = StringIO(input.strip())\n",
    "        expected = findall(r'\\[out\\]([\\s\\S]*)$', data)[0]\n",
    "\n",
    "    # Run program and with redirection of stdout to buffer\n",
    "    with StringIO() as ofs, redirect_stdout(ofs):\n",
    "        main(ifs.readline)\n",
    "        result = ofs.getvalue()\n",
    "\n",
    "    # Print differences\n",
    "    sys.stdout.writelines(\n",
    "        unified_diff(\n",
    "            expected.lstrip().splitlines(keepends=True),\n",
    "            result.lstrip().splitlines(keepends=True),\n",
    "            fromfile='expected',\n",
    "            tofile='result',\n",
    "        )\n",
    "    )"
   ]
  },
  {
   "cell_type": "code",
   "execution_count": 4,
   "metadata": {},
   "outputs": [
    {
     "output_type": "stream",
     "name": "stdout",
     "text": [
      "--- expected\n+++ result\n@@ -1,3 +1,3 @@\n-o--o\n---o-ooo-oooo\n-------oooo\n+8\n+45\n+25\n"
     ]
    }
   ],
   "source": [
    "\"\"\"\n",
    "Version 1:\n",
    "- used methods:\n",
    "\n",
    "\"\"\"\n",
    "from functools import lru_cache\n",
    "\n",
    "INF = float('inf')\n",
    "\n",
    "\n",
    "# Solution\n",
    "def solution(n, m, k):\n",
    "    return n * m + k\n",
    "\n",
    "\n",
    "# Main I/O part\n",
    "def main(rl):\n",
    "    C = int(rl())\n",
    "    for _ in range(C):\n",
    "        n, m, k = map(int, rl().split())\n",
    "        result = solution(n, m, k)\n",
    "        print(result)\n",
    "\n",
    "\n",
    "# Additional codes to simulate I/O\n",
    "try:\n",
    "    import IPython\n",
    "except ImportError as _:\n",
    "    # Submit env\n",
    "    import sys\n",
    "    main(sys.stdin.readline)\n",
    "else:\n",
    "    # IPython env\n",
    "    run(main)"
   ]
  },
  {
   "cell_type": "code",
   "execution_count": 5,
   "metadata": {
    "tags": []
   },
   "outputs": [
    {
     "output_type": "stream",
     "name": "stdout",
     "text": [
      "[0.00003460] 'solution(2, 2, 4)' → '8'\nCase 1 PASS\n\n[0.00004330] 'solution(4, 8, 13)' → '45'\nCase 2 PASS\n\n[0.00002960] 'solution(6, 4, 1)' → '25'\nCase 3 PASS\n\n\nAll test(s) have passed\n"
     ]
    }
   ],
   "source": [
    "\"\"\"\n",
    "Testing\n",
    "\n",
    "\"\"\"\n",
    "import cProfile\n",
    "import traceback\n",
    "import helpers as hlpr\n",
    "\n",
    "\n",
    "f = hlpr.clock(hlpr.timeout(seconds=10)(solution))\n",
    "test_cases = [\n",
    "    ((2, 2, 4, ),\n",
    "     8),\n",
    "    ((4, 8, 13, ),\n",
    "     45),\n",
    "    ((6, 4, 1, ),\n",
    "     25),\n",
    "]\n",
    "\n",
    "passed, failed = [], []\n",
    "for idx, tc in enumerate(test_cases, start=1):\n",
    "    case, expected = tc\n",
    "    result = None\n",
    "    try:\n",
    "        result = f(*case)\n",
    "        assert result == expected, \\\n",
    "            'wants {} but got {}'.format(hlpr.truncate(expected, 20), hlpr.truncate(result, 20))  # noqa: E501\n",
    "    except Exception as err:\n",
    "        fmt = 'Case {} FAIL: {}'\n",
    "        print(fmt.format(idx, str(err)))\n",
    "        traceback.print_exc()\n",
    "        failed.append(idx)\n",
    "    else:\n",
    "        fmt = 'Case {} PASS'\n",
    "        print(fmt.format(idx))\n",
    "        passed.append(idx)\n",
    "\n",
    "    print()\n",
    "\n",
    "print()\n",
    "if len(passed) == len(test_cases):\n",
    "    print('All test(s) have passed')\n",
    "else:\n",
    "    fmt = '{} of {} test(s) failed: {}'\n",
    "    print(fmt.format(len(failed), len(test_cases), ', '.join(map(str, failed))))  # noqa: E501"
   ]
  },
  {
   "cell_type": "code",
   "execution_count": null,
   "metadata": {},
   "outputs": [],
   "source": []
  }
 ],
 "metadata": {
  "kernelspec": {
   "name": "python3",
   "display_name": "Python 3.7.3 64-bit",
   "metadata": {
    "interpreter": {
     "hash": "31f2aee4e71d21fbe5cf8b01ff0e069b9275f58929596ceb00d14d90e3e16cd6"
    }
   }
  },
  "language_info": {
   "codemirror_mode": {
    "name": "ipython",
    "version": 3
   },
   "file_extension": ".py",
   "mimetype": "text/x-python",
   "name": "python",
   "nbconvert_exporter": "python",
   "pygments_lexer": "ipython3",
   "version": "3.7.3-final"
  }
 },
 "nbformat": 4,
 "nbformat_minor": 2
}