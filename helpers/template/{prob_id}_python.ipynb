{
 "cells": [
  {
   "cell_type": "code",
   "execution_count": 1,
   "metadata": {},
   "outputs": [],
   "source": [
    "%load_ext pycodestyle_magic\n",
    "%pycodestyle_on"
   ]
  },
  {
   "cell_type": "code",
   "execution_count": 2,
   "metadata": {},
   "outputs": [],
   "source": [
    "import helpers"
   ]
  },
  {
   "cell_type": "code",
   "execution_count": 3,
   "metadata": {},
   "outputs": [
    {
     "output_type": "stream",
     "name": "stdout",
     "text": [
      "--- Expect\n+++ Got\n@@ -1,3 +1,3 @@\n-o--o\n---o-ooo-oooo\n-------oooo\n+8\n+45\n+25\n"
     ]
    }
   ],
   "source": [
    "\"\"\"\n",
    "Version 1:\n",
    "- used methods:\n",
    "\n",
    "\"\"\"\n",
    "from functools import lru_cache\n",
    "\n",
    "inf = float('inf')\n",
    "\n",
    "\n",
    "# Solution\n",
    "def solution(n, m, k):\n",
    "    return n * m + k\n",
    "\n",
    "\n",
    "# Main I/O part\n",
    "def main(rl):\n",
    "    C = int(rl())\n",
    "    for _ in range(C):\n",
    "        n, m, k = map(int, rl().split())\n",
    "        result = solution(n, m, k)\n",
    "        print(result)\n",
    "\n",
    "\n",
    "# Additional codes to simulate I/O\n",
    "try:\n",
    "    import IPython\n",
    "except ImportError as _:\n",
    "    # Submit env\n",
    "    import sys\n",
    "    main(sys.stdin.readline)\n",
    "else:\n",
    "    from helpers import runner\n",
    "    # IPython env\n",
    "    runner.run(main)"
   ]
  },
  {
   "cell_type": "code",
   "execution_count": 4,
   "metadata": {
    "tags": []
   },
   "outputs": [
    {
     "output_type": "stream",
     "name": "stdout",
     "text": [
      "[0.00000380] solution(2, 2, 4) → 8\nTest 1 passed\n\n\n             63 function calls in 0.000 seconds\n\n       Ordered by: cumulative time\n\n       ncalls  tottime  percall  cumtime  percall filename:lineno(function)\n            1    0.000    0.000    0.000    0.000 /workspace/helpers/src/decorators.py:120(wrapper)\n            1    0.000    0.000    0.000    0.000 /workspace/helpers/src/decorators.py:58(wrapper)\n            1    0.000    0.000    0.000    0.000 {built-in method builtins.print}\n            2    0.000    0.000    0.000    0.000 /usr/local/lib/python3.7/dist-packages/ipykernel/iostream.py:384(write)\n            3    0.000    0.000    0.000    0.000 /usr/local/lib/python3.7/dist-packages/ipykernel/iostream.py:195(schedule)\n            3    0.000    0.000    0.000    0.000 /usr/local/lib/python3.7/dist-packages/zmq/sugar/socket.py:438(send)\n            2    0.000    0.000    0.000    0.000 /usr/local/lib/python3.7/dist-packages/ipykernel/iostream.py:321(_schedule_flush)\n            1    0.000    0.000    0.000    0.000 /usr/lib/python3.7/signal.py:45(signal)\n            3    0.000    0.000    0.000    0.000 /usr/lib/python3.7/threading.py:1080(is_alive)\n            1    0.000    0.000    0.000    0.000 {method 'format_map' of 'str' objects}\n            1    0.000    0.000    0.000    0.000 {built-in method _signal.setitimer}\n            2    0.000    0.000    0.000    0.000 /usr/local/lib/python3.7/dist-packages/ipykernel/iostream.py:308(_is_master_process)\n            1    0.000    0.000    0.000    0.000 {built-in method _signal.signal}\n            1    0.000    0.000    0.000    0.000 /usr/lib/python3.7/signal.py:25(_int_to_enum)\n            2    0.000    0.000    0.000    0.000 /usr/lib/python3.7/signal.py:35(_enum_to_int)\n            3    0.000    0.000    0.000    0.000 /usr/lib/python3.7/threading.py:1038(_wait_for_tstate_lock)\n            1    0.000    0.000    0.000    0.000 /usr/lib/python3.7/contextlib.py:116(__exit__)\n            1    0.000    0.000    0.000    0.000 {built-in method _signal.alarm}\n            1    0.000    0.000    0.000    0.000 /workspace/helpers/src/decorators.py:64(<listcomp>)\n            2    0.000    0.000    0.000    0.000 {built-in method posix.getpid}\n            3    0.000    0.000    0.000    0.000 {method 'acquire' of '_thread.lock' objects}\n            1    0.000    0.000    0.000    0.000 {built-in method builtins.next}\n            1    0.000    0.000    0.000    0.000 /workspace/helpers/src/testing.py:28(_profile)\n            1    0.000    0.000    0.000    0.000 /usr/lib/python3.7/enum.py:284(__call__)\n            2    0.000    0.000    0.000    0.000 {built-in method time.perf_counter}\n            3    0.000    0.000    0.000    0.000 /usr/local/lib/python3.7/dist-packages/ipykernel/iostream.py:91(_event_pipe)\n            1    0.000    0.000    0.000    0.000 {method 'join' of 'str' objects}\n            1    0.000    0.000    0.000    0.000 {method 'format' of 'str' objects}\n            2    0.000    0.000    0.000    0.000 {built-in method builtins.isinstance}\n            4    0.000    0.000    0.000    0.000 {built-in method builtins.repr}\n            1    0.000    0.000    0.000    0.000 <ipython-input-3-81136628e87c>:12(solution)\n            1    0.000    0.000    0.000    0.000 /usr/lib/python3.7/enum.py:526(__new__)\n            1    0.000    0.000    0.000    0.000 {method 'items' of 'dict' objects}\n            3    0.000    0.000    0.000    0.000 {method 'append' of 'collections.deque' objects}\n            1    0.000    0.000    0.000    0.000 /workspace/helpers/src/decorators.py:65(<listcomp>)\n            1    0.000    0.000    0.000    0.000 {method 'disable' of '_lsprof.Profiler' objects}\n            3    0.000    0.000    0.000    0.000 /usr/lib/python3.7/threading.py:507(is_set)\n\n\n\n[0.00000080] solution(4, 8, 13) → 45\nTest 2 passed\n\n[0.00000110] solution(6, 4, 1) → 25\nTest 3 failed\n\n\n    Traceback (most recent call last):\n      File \"/workspace/helpers/src/testing.py\", line 188, in run\n        assert result.ok, f\"Expect {tc.expected} but got {result.got}\"\n    AssertionError: Expect 26 but got 25\n\n\n\nTest 2 out of 3 tests passed: failed 3\n"
     ]
    }
   ],
   "source": [
    "\"\"\"\n",
    "Testing\n",
    "\n",
    "\"\"\"\n",
    "from helpers import testing\n",
    "\n",
    "\n",
    "def epsilon(a, b):\n",
    "    return abs(b - a) < 10e-8\n",
    "\n",
    "\n",
    "test_cases = [\n",
    "    {\n",
    "        'input': [2, 2, 4],\n",
    "        'expected': 8,\n",
    "        'oracle': epsilon,\n",
    "        'verbose': True,\n",
    "    },\n",
    "    {\n",
    "        'input': [4, 8, 13],\n",
    "        'expected': 45,\n",
    "    },\n",
    "    {\n",
    "        'input': [6, 4, 1],\n",
    "        'expected': 26,\n",
    "    },\n",
    "]\n",
    "\n",
    "testing.run(solution, test_cases)"
   ]
  },
  {
   "cell_type": "code",
   "execution_count": null,
   "metadata": {},
   "outputs": [],
   "source": []
  }
 ],
 "metadata": {
  "kernelspec": {
   "name": "python3",
   "display_name": "Python 3.7.3 64-bit",
   "metadata": {
    "interpreter": {
     "hash": "31f2aee4e71d21fbe5cf8b01ff0e069b9275f58929596ceb00d14d90e3e16cd6"
    }
   }
  },
  "language_info": {
   "codemirror_mode": {
    "name": "ipython",
    "version": 3
   },
   "file_extension": ".py",
   "mimetype": "text/x-python",
   "name": "python",
   "nbconvert_exporter": "python",
   "pygments_lexer": "ipython3",
   "version": "3.7.3-final"
  }
 },
 "nbformat": 4,
 "nbformat_minor": 2
}