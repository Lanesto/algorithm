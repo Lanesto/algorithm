{
 "cells": [
  {
   "cell_type": "code",
   "execution_count": 1,
   "metadata": {
    "scrolled": false
   },
   "outputs": [
    {
     "name": "stdout",
     "output_type": "stream",
     "text": [
      "Requirement already up-to-date: pip in /opt/conda/lib/python3.8/site-packages (20.2.4)\n",
      "Requirement already satisfied: flake8 in /opt/conda/lib/python3.8/site-packages (3.8.4)\n",
      "Requirement already satisfied: pycodestyle_magic in /opt/conda/lib/python3.8/site-packages (0.5)\n",
      "Requirement already satisfied: mccabe<0.7.0,>=0.6.0 in /opt/conda/lib/python3.8/site-packages (from flake8) (0.6.1)\n",
      "Requirement already satisfied: pyflakes<2.3.0,>=2.2.0 in /opt/conda/lib/python3.8/site-packages (from flake8) (2.2.0)\n",
      "Requirement already satisfied: pycodestyle<2.7.0,>=2.6.0a1 in /opt/conda/lib/python3.8/site-packages (from flake8) (2.6.0)\n"
     ]
    }
   ],
   "source": [
    "# Enforces PEP-8 style guideline\n",
    "!pip install --upgrade pip\n",
    "!pip install flake8 pycodestyle_magic\n",
    "\n",
    "# Adds upper path to import common module\n",
    "import sys\n",
    "sys.path.append(\"../../\")"
   ]
  },
  {
   "cell_type": "code",
   "execution_count": 2,
   "metadata": {},
   "outputs": [],
   "source": [
    "%load_ext pycodestyle_magic\n",
    "%pycodestyle_on"
   ]
  },
  {
   "cell_type": "code",
   "execution_count": 3,
   "metadata": {},
   "outputs": [
    {
     "name": "stdout",
     "output_type": "stream",
     "text": [
      "0\n"
     ]
    }
   ],
   "source": [
    "\"\"\"\n",
    "Version 1\n",
    "- used methods: brute-force\n",
    "\n",
    "\"\"\"\n",
    "\n",
    "# (Δx, Δy) for possible blocks\n",
    "# ┌→ x(+)\n",
    "# ↓\n",
    "# y(+)\n",
    "BLOCK_TYPES = [\n",
    "    ((0, 0),  (1, 0), (1, 1)),  # ┐\n",
    "    ((0, 0), (-1, 1), (0, 1)),  # ┘\n",
    "    ((0, 0),  (0, 1), (1, 1)),  # └\n",
    "    ((0, 0),  (1, 0), (0, 1)),  # ┌\n",
    "]\n",
    "\n",
    "# Block cover type\n",
    "WHITE, BLACK = 0, 1\n",
    "\n",
    "# (Un)Set block\n",
    "SET, UNSET = 1, -1\n",
    "\n",
    "\n",
    "# Return the count of ways cover all white blocks in board\n",
    "def solution(board):\n",
    "    height, width = len(board), len(board[0])\n",
    "\n",
    "    # Unsolvable cases: count of empty cells are not multiples of 3\n",
    "    count_of_empty_cells = 0\n",
    "    for row in board:\n",
    "        count_of_empty_cells += row.count(WHITE)\n",
    "\n",
    "    if count_of_empty_cells % 3 != 0:\n",
    "        return 0\n",
    "\n",
    "    def is_in_board(x, y):\n",
    "        return (x >= 0 and x < width) and (y >= 0 and y < height)\n",
    "\n",
    "    def set_block(x, y, block_type, operation):\n",
    "        placed = True\n",
    "        for dp in BLOCK_TYPES[block_type]:\n",
    "            dx, dy = dp\n",
    "            nx, ny = x + dx, y + dy\n",
    "            if not is_in_board(nx, ny):\n",
    "                placed = False\n",
    "            else:\n",
    "                board[ny][nx] += operation\n",
    "                if board[ny][nx] > 1:\n",
    "                    placed = False\n",
    "\n",
    "        return placed\n",
    "\n",
    "    def cover():\n",
    "        # Find cell not filled yet, which is closest to up-left\n",
    "        x, y = None, None\n",
    "        for j, row in enumerate(board):\n",
    "            for i, cell in enumerate(row):\n",
    "                if cell == WHITE:\n",
    "                    x, y = i, j\n",
    "                    break\n",
    "            if y is not None:\n",
    "                break\n",
    "\n",
    "        # Base condition: all filled\n",
    "        if y is None:\n",
    "            return 1\n",
    "\n",
    "        result = 0\n",
    "        for block_type in range(len(BLOCK_TYPES)):\n",
    "            if set_block(x, y, block_type, SET):\n",
    "                result += cover()\n",
    "\n",
    "            set_block(x, y, block_type, UNSET)\n",
    "\n",
    "        return result\n",
    "\n",
    "    answer = cover()\n",
    "    return answer\n",
    "\n",
    "\n",
    "C = int(input())\n",
    "for _ in range(C):\n",
    "    H, W = map(int, input().split())\n",
    "    board = []\n",
    "    for _ in range(H):\n",
    "        row = [BLACK if cell == '#' else WHITE for cell in input()]\n",
    "        board.append(row)\n",
    "\n",
    "    result = solution(board)\n",
    "    print(result)"
   ]
  },
  {
   "cell_type": "code",
   "execution_count": 4,
   "metadata": {},
   "outputs": [
    {
     "name": "stdout",
     "output_type": "stream",
     "text": [
      "[0.00000501] solution([[1, 0, 0, 0, 0, 0, 1], [1, 0, 0, 0, 0, 0, 1], [1, 1, 1, 1, 1, 1, 1]]) → 0\n",
      "[0.00045204] solution([[1, 0, 0, 0, 0, 0, 1], [1, 0, 0, 0, 0, 0, 1], [1, 1, 0, 0, 1, 1, 1]]) → 2\n",
      "[1.64070129] solution([[1, 1, 1, 1, 1, 1, 1, 1, 1, 1], [1, 0, 0, 0, 0, 0, 0, 0, 0, 1], [1, 0, 0, 0, 0, 0, 0, 0, 0, 1], [1, 0, 0, 0, 0, 0, 0, 0, 0, 1], [1, 0, 0, 0, 0, 0, 0, 0, 0, 1], [1, 0, 0, 0, 0, 0, 0, 0, 0, 1], [1, 0, 0, 0, 0, 0, 0, 0, 0, 1], [1, 1, 1, 1, 1, 1, 1, 1, 1, 1]]) → 1514\n",
      "All tests done.\n"
     ]
    }
   ],
   "source": [
    "\"\"\"\n",
    "Testing\n",
    "\n",
    "\"\"\"\n",
    "import helpers as hlpr\n",
    "\n",
    "f = hlpr.clock(solution)\n",
    "test_cases = [\n",
    "    (([[1, 0, 0, 0, 0, 0, 1],\n",
    "       [1, 0, 0, 0, 0, 0, 1],\n",
    "       [1, 1, 1, 1, 1, 1, 1]], ),\n",
    "     0),\n",
    "    (([[1, 0, 0, 0, 0, 0, 1],\n",
    "       [1, 0, 0, 0, 0, 0, 1],\n",
    "       [1, 1, 0, 0, 1, 1, 1]], ),\n",
    "     2),\n",
    "    (([[1, 1, 1, 1, 1, 1, 1, 1, 1, 1],\n",
    "       [1, 0, 0, 0, 0, 0, 0, 0, 0, 1],\n",
    "       [1, 0, 0, 0, 0, 0, 0, 0, 0, 1],\n",
    "       [1, 0, 0, 0, 0, 0, 0, 0, 0, 1],\n",
    "       [1, 0, 0, 0, 0, 0, 0, 0, 0, 1],\n",
    "       [1, 0, 0, 0, 0, 0, 0, 0, 0, 1],\n",
    "       [1, 0, 0, 0, 0, 0, 0, 0, 0, 1],\n",
    "       [1, 1, 1, 1, 1, 1, 1, 1, 1, 1]], ),\n",
    "     1514),\n",
    "]\n",
    "\n",
    "fmt = \"Case {} expects {} but got {}\"\n",
    "for idx, tc in enumerate(test_cases):\n",
    "    case, expected = tc\n",
    "    result = f(*case)\n",
    "    assert result == expected, \\\n",
    "        fmt.format(idx, hlpr.truncate(expected, 50), hlpr.truncate(result, 50))\n",
    "\n",
    "hlpr.debug_msg(\"All tests done.\")"
   ]
  },
  {
   "cell_type": "code",
   "execution_count": null,
   "metadata": {},
   "outputs": [],
   "source": [
    "!pip install matplotlib\n",
    "\"\"\"\n",
    "Performance analysis\n",
    "- x-axis: n\n",
    "- y-axis: O(f(n))\n",
    "\n",
    "\"\"\"\n",
    "import matplotlib as plt\n",
    "\n",
    "_"
   ]
  },
  {
   "cell_type": "code",
   "execution_count": null,
   "metadata": {},
   "outputs": [],
   "source": []
  }
 ],
 "metadata": {
  "kernelspec": {
   "display_name": "Python 3",
   "language": "python",
   "name": "python3"
  },
  "language_info": {
   "codemirror_mode": {
    "name": "ipython",
    "version": 3
   },
   "file_extension": ".py",
   "mimetype": "text/x-python",
   "name": "python",
   "nbconvert_exporter": "python",
   "pygments_lexer": "ipython3",
   "version": "3.8.6"
  }
 },
 "nbformat": 4,
 "nbformat_minor": 2
}
