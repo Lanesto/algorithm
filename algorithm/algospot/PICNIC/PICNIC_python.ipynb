{
 "cells": [
  {
   "cell_type": "code",
   "execution_count": 1,
   "metadata": {
    "scrolled": false
   },
   "outputs": [
    {
     "name": "stdout",
     "output_type": "stream",
     "text": [
      "Requirement already up-to-date: pip in /opt/conda/lib/python3.8/site-packages (20.2.4)\n",
      "Requirement already satisfied: flake8 in /opt/conda/lib/python3.8/site-packages (3.8.4)\n",
      "Requirement already satisfied: pycodestyle_magic in /opt/conda/lib/python3.8/site-packages (0.5)\n",
      "Requirement already satisfied: mccabe<0.7.0,>=0.6.0 in /opt/conda/lib/python3.8/site-packages (from flake8) (0.6.1)\n",
      "Requirement already satisfied: pycodestyle<2.7.0,>=2.6.0a1 in /opt/conda/lib/python3.8/site-packages (from flake8) (2.6.0)\n",
      "Requirement already satisfied: pyflakes<2.3.0,>=2.2.0 in /opt/conda/lib/python3.8/site-packages (from flake8) (2.2.0)\n"
     ]
    }
   ],
   "source": [
    "# Enforces PEP-8 style guideline\n",
    "!pip install --upgrade pip\n",
    "!pip install flake8 pycodestyle_magic\n",
    "\n",
    "# Adds upper path to import common module\n",
    "import sys\n",
    "sys.path.append(\"../../\")"
   ]
  },
  {
   "cell_type": "code",
   "execution_count": 2,
   "metadata": {},
   "outputs": [],
   "source": [
    "%load_ext pycodestyle_magic\n",
    "%pycodestyle_on"
   ]
  },
  {
   "cell_type": "code",
   "execution_count": 3,
   "metadata": {},
   "outputs": [
    {
     "name": "stdout",
     "output_type": "stream",
     "text": [
      "0\n"
     ]
    },
    {
     "name": "stderr",
     "output_type": "stream",
     "text": [
      "8:80: E501 line too long (80 > 79 characters)\n",
      "24:80: E501 line too long (86 > 79 characters)\n"
     ]
    }
   ],
   "source": [
    "\"\"\"\n",
    "Version 1\n",
    "- used methods: brute-force\n",
    "\n",
    "\"\"\"\n",
    "\n",
    "\n",
    "# Return the count of combinations of pairs of students only consists of friends\n",
    "def solution(n, are_friends):\n",
    "    is_taken = [False]*n\n",
    "\n",
    "    # Make all possible combinations\n",
    "    def count_pairings():\n",
    "        # Find student who has no partner yet with smallest index\n",
    "        try:\n",
    "            first_free = is_taken.index(False)\n",
    "        except ValueError:\n",
    "            # All students are in pairs\n",
    "            return 1\n",
    "\n",
    "        result = 0\n",
    "        for j in range(first_free+1, n):\n",
    "            if not is_taken[j] \\\n",
    "               and ((first_free, j) in are_friends or (j, first_free) in are_friends):\n",
    "                is_taken[first_free] = is_taken[j] = True\n",
    "                result += count_pairings()\n",
    "                is_taken[first_free] = is_taken[j] = False\n",
    "\n",
    "        return result\n",
    "\n",
    "    answer = count_pairings()\n",
    "    return answer\n",
    "\n",
    "\n",
    "C = int(input())\n",
    "for _ in range(C):\n",
    "    n, m = map(int, input().split())\n",
    "    are_friends = list(map(int, input().split()))\n",
    "    are_friends = list(zip(are_friends[::2], are_friends[1::2]))\n",
    "    result = solution(n, are_friends)\n",
    "    print(result)"
   ]
  },
  {
   "cell_type": "code",
   "execution_count": 4,
   "metadata": {},
   "outputs": [
    {
     "name": "stderr",
     "output_type": "stream",
     "text": [
      "13:80: E501 line too long (91 > 79 characters)\n"
     ]
    },
    {
     "name": "stdout",
     "output_type": "stream",
     "text": [
      "[0.00000882] solution(2, [(0, 1)]) → 1\n",
      "[0.00001287] solution(4, [(0, 1), (1, 2), (2, 3), (3, 0), (0, 2), (1, 3)]) → 3\n",
      "[0.00001931] solution(6, [(0, 1), (0, 2), (1, 2), (1, 3), (1, 4), (2, 3), (2, 4), (3, 4), (3, 5), (4, 5)]) → 4\n",
      "All tests done.\n"
     ]
    }
   ],
   "source": [
    "\"\"\"\n",
    "Testing\n",
    "\n",
    "\"\"\"\n",
    "import helpers as hlpr\n",
    "\n",
    "f = hlpr.clock(solution)\n",
    "test_cases = [\n",
    "    ((2, [(0, 1)]),\n",
    "     1),\n",
    "    ((4, [(0, 1), (1, 2), (2, 3), (3, 0), (0, 2), (1, 3)]),\n",
    "     3),\n",
    "    ((6, [(0, 1), (0, 2), (1, 2), (1, 3), (1, 4), (2, 3), (2, 4), (3, 4), (3, 5), (4, 5)]),\n",
    "     4),\n",
    "]\n",
    "\n",
    "fmt = \"Case {} expects {} but got {}\"\n",
    "for idx, tc in enumerate(test_cases):\n",
    "    case, expected = tc\n",
    "    result = f(*case)\n",
    "    assert result == expected, \\\n",
    "        fmt.format(idx, hlpr.truncate(expected, 50), hlpr.truncate(result, 50))\n",
    "\n",
    "hlpr.debug_msg(\"All tests done.\")"
   ]
  },
  {
   "cell_type": "code",
   "execution_count": 5,
   "metadata": {},
   "outputs": [
    {
     "name": "stdout",
     "output_type": "stream",
     "text": [
      "Requirement already satisfied: matplotlib in /opt/conda/lib/python3.8/site-packages (3.3.2)\n",
      "Requirement already satisfied: certifi>=2020.06.20 in /opt/conda/lib/python3.8/site-packages (from matplotlib) (2020.6.20)\n",
      "Requirement already satisfied: numpy>=1.15 in /opt/conda/lib/python3.8/site-packages (from matplotlib) (1.19.2)\n",
      "Requirement already satisfied: pillow>=6.2.0 in /opt/conda/lib/python3.8/site-packages (from matplotlib) (8.0.1)\n",
      "Requirement already satisfied: cycler>=0.10 in /opt/conda/lib/python3.8/site-packages (from matplotlib) (0.10.0)\n",
      "Requirement already satisfied: python-dateutil>=2.1 in /opt/conda/lib/python3.8/site-packages (from matplotlib) (2.8.1)\n",
      "Requirement already satisfied: pyparsing!=2.0.4,!=2.1.2,!=2.1.6,>=2.0.3 in /opt/conda/lib/python3.8/site-packages (from matplotlib) (2.4.7)\n",
      "Requirement already satisfied: kiwisolver>=1.0.1 in /opt/conda/lib/python3.8/site-packages (from matplotlib) (1.3.0)\n",
      "Requirement already satisfied: six in /opt/conda/lib/python3.8/site-packages (from cycler>=0.10->matplotlib) (1.15.0)\n"
     ]
    },
    {
     "data": {
      "text/plain": [
       "''"
      ]
     },
     "execution_count": 5,
     "metadata": {},
     "output_type": "execute_result"
    }
   ],
   "source": [
    "!pip install matplotlib\n",
    "\"\"\"\n",
    "Performance analysis\n",
    "- x-axis: n\n",
    "- y-axis: O(f(n))\n",
    "\n",
    "\"\"\"\n",
    "import matplotlib as plt\n",
    "\n",
    "_"
   ]
  },
  {
   "cell_type": "code",
   "execution_count": null,
   "metadata": {},
   "outputs": [],
   "source": []
  }
 ],
 "metadata": {
  "kernelspec": {
   "display_name": "Python 3",
   "language": "python",
   "name": "python3"
  },
  "language_info": {
   "codemirror_mode": {
    "name": "ipython",
    "version": 3
   },
   "file_extension": ".py",
   "mimetype": "text/x-python",
   "name": "python",
   "nbconvert_exporter": "python",
   "pygments_lexer": "ipython3",
   "version": "3.8.6"
  }
 },
 "nbformat": 4,
 "nbformat_minor": 2
}
