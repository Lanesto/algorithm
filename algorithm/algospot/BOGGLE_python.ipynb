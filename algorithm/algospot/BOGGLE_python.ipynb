{
 "cells": [
  {
   "cell_type": "code",
   "execution_count": 1,
   "metadata": {
    "scrolled": false
   },
   "outputs": [
    {
     "name": "stdout",
     "output_type": "stream",
     "text": [
      "Requirement already up-to-date: pip in /opt/conda/lib/python3.8/site-packages (20.2.4)\n",
      "Requirement already satisfied: flake8 in /opt/conda/lib/python3.8/site-packages (3.8.4)\n",
      "Requirement already satisfied: pycodestyle_magic in /opt/conda/lib/python3.8/site-packages (0.5)\n",
      "Requirement already satisfied: mccabe<0.7.0,>=0.6.0 in /opt/conda/lib/python3.8/site-packages (from flake8) (0.6.1)\n",
      "Requirement already satisfied: pycodestyle<2.7.0,>=2.6.0a1 in /opt/conda/lib/python3.8/site-packages (from flake8) (2.6.0)\n",
      "Requirement already satisfied: pyflakes<2.3.0,>=2.2.0 in /opt/conda/lib/python3.8/site-packages (from flake8) (2.2.0)\n"
     ]
    }
   ],
   "source": [
    "# Enforces PEP-8 style guideline\n",
    "!pip install --upgrade pip\n",
    "!pip install flake8 pycodestyle_magic\n",
    "\n",
    "# Adds upper path to import common module\n",
    "import sys\n",
    "sys.path.append(\"../\")"
   ]
  },
  {
   "cell_type": "code",
   "execution_count": 2,
   "metadata": {},
   "outputs": [],
   "source": [
    "%load_ext pycodestyle_magic\n",
    "%pycodestyle_on"
   ]
  },
  {
   "cell_type": "code",
   "execution_count": 3,
   "metadata": {},
   "outputs": [
    {
     "name": "stdout",
     "output_type": "stream",
     "text": [
      "0\n"
     ]
    }
   ],
   "source": [
    "\"\"\"\n",
    "Version 1\n",
    "- used methods: brute-force → DP\n",
    "\n",
    "\"\"\"\n",
    "from functools import lru_cache\n",
    "\n",
    "# Relative positions (dx, dy)\n",
    "SEARCH_DIRECTIONS = \\\n",
    "    [(-1, -1), (-1, 0), (-1, 1), (0, -1), (0, 1), (1, -1), (1, 0), (1, 1)]\n",
    "\n",
    "# Size of game board\n",
    "BOARD_SIZE = 5\n",
    "\n",
    "# Maximum length of word\n",
    "MAX_LEN = 10\n",
    "\n",
    "\n",
    "# For given Boggle 'board', can make 'word'?\n",
    "def solution(board, words):\n",
    "    def is_in_board(x, y):\n",
    "        return (x >= 0 and x < BOARD_SIZE) and (y >= 0 and y < BOARD_SIZE)\n",
    "\n",
    "    # Separate into subproblems\n",
    "    @lru_cache(maxsize=BOARD_SIZE*BOARD_SIZE*MAX_LEN)\n",
    "    def has_word(x, y, remaining_word):\n",
    "        # Base condition: position out of board\n",
    "        if not is_in_board(x, y):\n",
    "            return False\n",
    "\n",
    "        # Base condition: first character does not match\n",
    "        if remaining_word[0] != board[y][x]:\n",
    "            return False\n",
    "\n",
    "        # Base condition: all words match\n",
    "        if len(remaining_word) == 1:\n",
    "            return True\n",
    "\n",
    "        for dx, dy in SEARCH_DIRECTIONS:\n",
    "            if has_word(x + dx, y + dy, remaining_word[1:]):\n",
    "                return True\n",
    "        return False\n",
    "\n",
    "    answer = []\n",
    "    for word in words:\n",
    "        answer.append(any(has_word(x, y, word)\n",
    "                          for x in range(5) for y in range(5)))\n",
    "\n",
    "    return answer\n",
    "\n",
    "\n",
    "C = int(input())\n",
    "for _ in range(C):\n",
    "    board, words = [], []\n",
    "    for _ in range(5):\n",
    "        board.append(input())\n",
    "\n",
    "    N = int(input())\n",
    "    for _ in range(N):\n",
    "        words.append(input())\n",
    "\n",
    "    result = [\"YES\" if b else \"NO\" for b in solution(board, words)]\n",
    "    for w, b in list(zip(words, result)):\n",
    "        print(w, b)"
   ]
  },
  {
   "cell_type": "code",
   "execution_count": 4,
   "metadata": {},
   "outputs": [
    {
     "name": "stderr",
     "output_type": "stream",
     "text": [
      "14:80: E501 line too long (80 > 79 characters)\n"
     ]
    },
    {
     "name": "stdout",
     "output_type": "stream",
     "text": [
      "[0.00033140] solution(['URLPM', 'XPRET', 'GIAET', 'XTNZY', 'XOQRS'], ['PRETTY', 'GIRL', 'REPEAT', 'KARA', 'PANDORA', 'GIAZAPX', 'URLPMPMPMM']) → [True, True, True, False, False, True, False]\n",
      "[0.00033593] solution(['NNNNS', 'NEEEN', 'NEYEN', 'NEEEN', 'NNNNN'], ['YESR', 'SNNNNNNN', 'EEEEEEEEE', 'NEYN']) → [False, True, True, False]\n",
      "[0.00004339] solution(['NNNNN', 'NEEEN', 'NEYEN', 'NEEEN', 'NSNNN'], ['YES']) → [True]\n",
      "[0.00080609] solution(['AAAAA', 'AAAAA', 'AAAAA', 'AAAAA', 'AAAAB'], ['ABABABABAA', 'AAAAAAAAAB', 'ABABABABBA', 'BAAAAAAABA']) → [True, True, False, True]\n",
      "[0.00086904] solution(['AAAAA', 'AAAAA', 'AAAAA', 'AAACC', 'AAACB'], ['AAAAAAAAAB']) → [False]\n",
      "All tests done.\n"
     ]
    }
   ],
   "source": [
    "\"\"\"\n",
    "Testing\n",
    "\n",
    "\"\"\"\n",
    "import helpers as hlpr\n",
    "\n",
    "f = hlpr.clock(solution)\n",
    "test_cases = [\n",
    "    (([\"URLPM\",\n",
    "       \"XPRET\",\n",
    "       \"GIAET\",\n",
    "       \"XTNZY\",\n",
    "       \"XOQRS\"],\n",
    "      [\"PRETTY\", \"GIRL\", \"REPEAT\", \"KARA\", \"PANDORA\", \"GIAZAPX\", \"URLPMPMPMM\"]),\n",
    "     [True, True, True, False, False, True, False]),\n",
    "    (([\"NNNNS\",\n",
    "       \"NEEEN\",\n",
    "       \"NEYEN\",\n",
    "       \"NEEEN\",\n",
    "       \"NNNNN\"],\n",
    "      [\"YESR\", \"SNNNNNNN\", \"EEEEEEEEE\", \"NEYN\"]),\n",
    "     [False, True, True, False]),\n",
    "    (([\"NNNNN\",\n",
    "       \"NEEEN\",\n",
    "       \"NEYEN\",\n",
    "       \"NEEEN\",\n",
    "       \"NSNNN\"],\n",
    "      [\"YES\"]),\n",
    "     [True]),\n",
    "    (([\"AAAAA\",\n",
    "       \"AAAAA\",\n",
    "       \"AAAAA\",\n",
    "       \"AAAAA\",\n",
    "       \"AAAAB\"],\n",
    "      [\"ABABABABAA\", \"AAAAAAAAAB\", \"ABABABABBA\", \"BAAAAAAABA\"]),\n",
    "     [True, True, False, True]),\n",
    "    (([\"AAAAA\",\n",
    "       \"AAAAA\",\n",
    "       \"AAAAA\",\n",
    "       \"AAACC\",\n",
    "       \"AAACB\"],\n",
    "      [\"AAAAAAAAAB\"]),\n",
    "     [False]),\n",
    "]\n",
    "\n",
    "fmt = \"Case {} expects {} but got {}\"\n",
    "for idx, tc in enumerate(test_cases):\n",
    "    case, expected = tc\n",
    "    result = f(*case)\n",
    "    assert result == expected, \\\n",
    "        fmt.format(idx, hlpr.truncate(expected, 50), hlpr.truncate(result, 50))\n",
    "\n",
    "hlpr.debug_msg(\"All tests done.\")"
   ]
  },
  {
   "cell_type": "code",
   "execution_count": 5,
   "metadata": {},
   "outputs": [
    {
     "name": "stdout",
     "output_type": "stream",
     "text": [
      "Requirement already satisfied: matplotlib in /opt/conda/lib/python3.8/site-packages (3.3.2)\n",
      "Requirement already satisfied: certifi>=2020.06.20 in /opt/conda/lib/python3.8/site-packages (from matplotlib) (2020.6.20)\n",
      "Requirement already satisfied: numpy>=1.15 in /opt/conda/lib/python3.8/site-packages (from matplotlib) (1.19.2)\n",
      "Requirement already satisfied: pyparsing!=2.0.4,!=2.1.2,!=2.1.6,>=2.0.3 in /opt/conda/lib/python3.8/site-packages (from matplotlib) (2.4.7)\n",
      "Requirement already satisfied: pillow>=6.2.0 in /opt/conda/lib/python3.8/site-packages (from matplotlib) (8.0.1)\n",
      "Requirement already satisfied: cycler>=0.10 in /opt/conda/lib/python3.8/site-packages (from matplotlib) (0.10.0)\n",
      "Requirement already satisfied: kiwisolver>=1.0.1 in /opt/conda/lib/python3.8/site-packages (from matplotlib) (1.3.0)\n",
      "Requirement already satisfied: python-dateutil>=2.1 in /opt/conda/lib/python3.8/site-packages (from matplotlib) (2.8.1)\n",
      "Requirement already satisfied: six in /opt/conda/lib/python3.8/site-packages (from cycler>=0.10->matplotlib) (1.15.0)\n"
     ]
    },
    {
     "data": {
      "text/plain": [
       "''"
      ]
     },
     "execution_count": 5,
     "metadata": {},
     "output_type": "execute_result"
    }
   ],
   "source": [
    "!pip install matplotlib\n",
    "\"\"\"\n",
    "Performance analysis\n",
    "- x-axis: n\n",
    "- y-axis: O(f(n))\n",
    "\n",
    "\"\"\"\n",
    "import matplotlib as plt\n",
    "\n",
    "_"
   ]
  },
  {
   "cell_type": "code",
   "execution_count": null,
   "metadata": {},
   "outputs": [],
   "source": []
  }
 ],
 "metadata": {
  "kernelspec": {
   "display_name": "Python 3",
   "language": "python",
   "name": "python3"
  },
  "language_info": {
   "codemirror_mode": {
    "name": "ipython",
    "version": 3
   },
   "file_extension": ".py",
   "mimetype": "text/x-python",
   "name": "python",
   "nbconvert_exporter": "python",
   "pygments_lexer": "ipython3",
   "version": "3.8.6"
  }
 },
 "nbformat": 4,
 "nbformat_minor": 2
}
