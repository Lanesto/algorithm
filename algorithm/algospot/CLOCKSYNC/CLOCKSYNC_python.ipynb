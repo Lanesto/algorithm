{
 "cells": [
  {
   "cell_type": "code",
   "execution_count": 1,
   "metadata": {
    "scrolled": false
   },
   "outputs": [
    {
     "name": "stdout",
     "output_type": "stream",
     "text": [
      "Requirement already up-to-date: pip in /opt/conda/lib/python3.8/site-packages (20.2.4)\n",
      "Requirement already satisfied: flake8 in /opt/conda/lib/python3.8/site-packages (3.8.4)\n",
      "Requirement already satisfied: pycodestyle_magic in /opt/conda/lib/python3.8/site-packages (0.5)\n",
      "Requirement already satisfied: pyflakes<2.3.0,>=2.2.0 in /opt/conda/lib/python3.8/site-packages (from flake8) (2.2.0)\n",
      "Requirement already satisfied: pycodestyle<2.7.0,>=2.6.0a1 in /opt/conda/lib/python3.8/site-packages (from flake8) (2.6.0)\n",
      "Requirement already satisfied: mccabe<0.7.0,>=0.6.0 in /opt/conda/lib/python3.8/site-packages (from flake8) (0.6.1)\n"
     ]
    }
   ],
   "source": [
    "# Enforces PEP-8 style guideline\n",
    "!pip install --upgrade pip\n",
    "!pip install flake8 pycodestyle_magic\n",
    "\n",
    "# Adds upper path to import common module\n",
    "import sys\n",
    "sys.path.append(\"../../\")"
   ]
  },
  {
   "cell_type": "code",
   "execution_count": 2,
   "metadata": {},
   "outputs": [],
   "source": [
    "%load_ext pycodestyle_magic\n",
    "%pycodestyle_on"
   ]
  },
  {
   "cell_type": "code",
   "execution_count": null,
   "metadata": {},
   "outputs": [],
   "source": [
    "\"\"\"\n",
    "Version 1: TIMEOUT\n",
    "- used methods: brute-force with some optimizations\n",
    "\n",
    "\"\"\"\n",
    "\n",
    "# Switch-to-clock connection\n",
    "SWITCH_CONNECTIVITY = [\n",
    "    [0, 1, 2],\n",
    "    [3, 7, 9, 11],\n",
    "    [4, 10, 14, 15],\n",
    "    [0, 4, 5, 6, 7],\n",
    "    [6, 7, 8, 10, 12],\n",
    "    [0, 2, 14, 15],\n",
    "    [3, 14, 15],\n",
    "    [4, 5, 7, 14, 15],\n",
    "    [1, 2, 3, 4, 5],\n",
    "    [3, 4, 5, 9, 13]\n",
    "]\n",
    "\n",
    "COUNT_SWITCHES = len(SWITCH_CONNECTIVITY)\n",
    "\n",
    "INF = 1 << 32\n",
    "\n",
    "\n",
    "# MInimum push count to make all clocks point 12 o'clock\n",
    "def solution(clock_state):\n",
    "    if clock_state[8] != clock_state[12]:\n",
    "        return -1\n",
    "\n",
    "    clock_state = [c % 12 for c in clock_state]\n",
    "\n",
    "    def solve(switch):\n",
    "        # Base condition: checked all switches\n",
    "        if switch == COUNT_SWITCHES:\n",
    "            return INF if any(t != 0 for t in clock_state) else 0\n",
    "\n",
    "        ret = INF\n",
    "        for count in range(4):\n",
    "            ret = min(ret, count + solve(switch + 1))\n",
    "            for clock in SWITCH_CONNECTIVITY[switch]:\n",
    "                clock_state[clock] = (clock_state[clock] + 3) % 12\n",
    "\n",
    "        return ret\n",
    "\n",
    "    return solve(0)\n",
    "\n",
    "\n",
    "C = int(input())\n",
    "for _ in range(C):\n",
    "    clock_state = list(map(int, input().split()))\n",
    "    result = solution(clock_state)\n",
    "    print(result)"
   ]
  },
  {
   "cell_type": "code",
   "execution_count": 3,
   "metadata": {},
   "outputs": [
    {
     "name": "stdout",
     "output_type": "stream",
     "text": [
      "0\n"
     ]
    },
    {
     "name": "stderr",
     "output_type": "stream",
     "text": [
      "24:80: E501 line too long (99 > 79 characters)\n"
     ]
    }
   ],
   "source": [
    "\"\"\"\n",
    "Version 2\n",
    "- used methods: greedy?\n",
    "\n",
    "===================================================================================================================================\n",
    "switch-clock mapping  │clock-switch map\n",
    "0: 0  1  2            │0 : 0 3 5\n",
    "1: 3  7  9  11        │1 : 0 8\n",
    "2: 4  10 14 15        │2 : 0 5 8\n",
    "3: 0  4  5  6  7      │3 : 1 6 8 9\n",
    "4: 6  7  8  10 12     │4 : 2 3 7 8 9\n",
    "5: 0  2  14 15        │5 : 3 7 8 9\n",
    "6: 3  14 15           │6 : 3 4\n",
    "7: 4  5  7  14 15     │7 : 1 3 4 7\n",
    "8: 1  2  3  4  5      │8 : 4\n",
    "9: 3  4  5  9  13     │9 : 1 9\n",
    "                      │10: 2 4\n",
    "                      │11: 1\n",
    "                      │12: 4\n",
    "                      │13: 9\n",
    "                      │14: 2 5 6 7\n",
    "                      │15: 2 5 6 7\n",
    "\n",
    "first let's see clock 8, 11, 12, 13 in clock-switch mappiing that has only one switch connected to.\n",
    "which means: only 'switch 4' can handle 'clock 8'\n",
    "\n",
    "we will do following actions:\n",
    "1. find all clocks(C) that has only one connected switch(as S)\n",
    "2. remove C and put (C, S) to queue\n",
    "3. remove S from all clocks\n",
    "4. break loop if all clocks are visited else goto 1\n",
    "\n",
    "result is:\n",
    "clock  (8, 12) → 6 → 10 → 13 → (9, 11) → 7 → (4, 5) → 1 → 0 → 3\n",
    "switch    4       3     2     9       1       7      8       0    5    6\n",
    "\n",
    "some elements can swap their positions when satisfies some conditions.\n",
    "which means: discovery of C can be random access\n",
    "\n",
    "===================================================================================================================================\n",
    "\n",
    "\"\"\"\n",
    "\n",
    "# Check clocks in order\n",
    "CHECK_ORDER = [\n",
    "    (8,  [6, 7, 8, 10, 12]),\n",
    "    (6,  [0, 4, 5, 6, 7]),\n",
    "    (10, [4, 10, 14, 15]),\n",
    "    (13, [3, 4, 5, 9, 13]),\n",
    "    (9,  [3, 7, 9, 11]),\n",
    "    (7,  [4, 5, 7, 14, 15]),\n",
    "    (4,  [1, 2, 3, 4, 5]),\n",
    "    (1,  [0, 1, 2]),\n",
    "    (0,  [0, 2, 14, 15]),\n",
    "    (3,  [3, 14, 15]),\n",
    "]\n",
    "\n",
    "\n",
    "# MInimum push count to make all clocks point 12 o'clock\n",
    "def solution(clock_state):\n",
    "    if clock_state[8] != clock_state[12]:\n",
    "        return -1\n",
    "\n",
    "    ret = 0\n",
    "    for clock, related_clocks in CHECK_ORDER:\n",
    "        cnt = ((12 - clock_state[clock]) % 12) // 3\n",
    "        ret += cnt\n",
    "        for related in related_clocks:\n",
    "            clock_state[related] = (clock_state[related] + 3 * cnt) % 12\n",
    "\n",
    "    return -1 if any(t != 0 for t in clock_state) else ret\n",
    "\n",
    "\n",
    "C = int(input())\n",
    "for _ in range(C):\n",
    "    clock_state = list(map(int, input().split()))\n",
    "    result = solution(clock_state)\n",
    "    print(result)"
   ]
  },
  {
   "cell_type": "code",
   "execution_count": 4,
   "metadata": {},
   "outputs": [
    {
     "name": "stdout",
     "output_type": "stream",
     "text": [
      "[0.00001740] solution([12, 6, 6, 6, 6, 6, 12, 12, 12, 12, 12, 12, 12, 12, 12, 12]) → 2\n",
      "[0.00001955] solution([12, 9, 3, 12, 6, 6, 9, 3, 12, 9, 12, 9, 12, 12, 6, 6]) → 9\n",
      "[0.00001383] solution([3, 6, 6, 12, 3, 3, 9, 9, 6, 6, 6, 6, 6, 12, 6, 6]) → 11\n",
      "[0.00001383] solution([12, 3, 6, 12, 6, 6, 6, 12, 12, 12, 12, 3, 12, 9, 6, 6]) → 15\n",
      "[0.00001359] solution([3, 12, 12, 12, 3, 3, 6, 9, 9, 9, 9, 12, 9, 9, 12, 12]) → 11\n",
      "[0.00001359] solution([9, 3, 3, 9, 6, 12, 3, 6, 3, 3, 9, 6, 3, 9, 3, 3]) → 12\n",
      "[0.00001383] solution([12, 9, 6, 6, 12, 6, 6, 6, 6, 12, 12, 6, 6, 6, 9, 9]) → 16\n",
      "[0.00001359] solution([12, 9, 3, 3, 6, 9, 3, 6, 3, 9, 12, 3, 3, 6, 6, 6]) → 19\n",
      "[0.00001645] solution([3, 12, 6, 12, 6, 12, 12, 6, 3, 9, 9, 6, 3, 3, 3, 3]) → 16\n",
      "[0.00001359] solution([12, 12, 12, 9, 6, 12, 12, 3, 9, 3, 3, 12, 9, 3, 12, 12]) → 19\n",
      "[0.00001359] solution([6, 12, 12, 12, 6, 9, 3, 3, 12, 3, 9, 9, 12, 6, 12, 12]) → 14\n",
      "[0.00001383] solution([3, 12, 12, 9, 9, 6, 6, 12, 6, 9, 9, 9, 6, 12, 3, 3]) → 14\n",
      "All tests done.\n"
     ]
    }
   ],
   "source": [
    "\"\"\"\n",
    "Testing\n",
    "\n",
    "\"\"\"\n",
    "import helpers as hlpr\n",
    "\n",
    "f = hlpr.clock(solution)\n",
    "test_cases = [\n",
    "    (([12, 6, 6, 6, 6, 6, 12, 12, 12, 12, 12, 12, 12, 12, 12, 12], ),\n",
    "     2),\n",
    "    (([12, 9, 3, 12, 6, 6, 9, 3, 12, 9, 12, 9, 12, 12, 6, 6], ),\n",
    "     9),\n",
    "    (([3, 6, 6, 12, 3, 3, 9, 9, 6, 6, 6, 6, 6, 12, 6, 6], ),\n",
    "     11),\n",
    "    (([12, 3, 6, 12, 6, 6, 6, 12, 12, 12, 12, 3, 12, 9, 6, 6], ),\n",
    "     15),\n",
    "    (([3, 12, 12, 12, 3, 3, 6, 9, 9, 9, 9, 12, 9, 9, 12, 12], ),\n",
    "     11),\n",
    "    (([9, 3, 3, 9, 6, 12, 3, 6, 3, 3, 9, 6, 3, 9, 3, 3], ),\n",
    "     12),\n",
    "    (([12, 9, 6, 6, 12, 6, 6, 6, 6, 12, 12, 6, 6, 6, 9, 9], ),\n",
    "     16),\n",
    "    (([12, 9, 3, 3, 6, 9, 3, 6, 3, 9, 12, 3, 3, 6, 6, 6], ),\n",
    "     19),\n",
    "    (([3, 12, 6, 12, 6, 12, 12, 6, 3, 9, 9, 6, 3, 3, 3, 3], ),\n",
    "     16),\n",
    "    (([12, 12, 12, 9, 6, 12, 12, 3, 9, 3, 3, 12, 9, 3, 12, 12], ),\n",
    "     19),\n",
    "    (([6, 12, 12, 12, 6, 9, 3, 3, 12, 3, 9, 9, 12, 6, 12, 12], ),\n",
    "     14),\n",
    "    (([3, 12, 12, 9, 9, 6, 6, 12, 6, 9, 9, 9, 6, 12, 3, 3], ),\n",
    "     14),\n",
    "]\n",
    "\n",
    "fmt = \"Case {} expects {} but got {}\"\n",
    "for idx, tc in enumerate(test_cases):\n",
    "    case, expected = tc\n",
    "    result = f(*case)\n",
    "    assert result == expected, \\\n",
    "        fmt.format(idx, hlpr.truncate(expected, 50), hlpr.truncate(result, 50))\n",
    "\n",
    "hlpr.debug_msg(\"All tests done.\")"
   ]
  },
  {
   "cell_type": "code",
   "execution_count": 5,
   "metadata": {},
   "outputs": [
    {
     "name": "stdout",
     "output_type": "stream",
     "text": [
      "Requirement already satisfied: matplotlib in /opt/conda/lib/python3.8/site-packages (3.3.2)\n",
      "Requirement already satisfied: pillow>=6.2.0 in /opt/conda/lib/python3.8/site-packages (from matplotlib) (8.0.1)\n",
      "Requirement already satisfied: certifi>=2020.06.20 in /opt/conda/lib/python3.8/site-packages (from matplotlib) (2020.6.20)\n",
      "Requirement already satisfied: python-dateutil>=2.1 in /opt/conda/lib/python3.8/site-packages (from matplotlib) (2.8.1)\n",
      "Requirement already satisfied: pyparsing!=2.0.4,!=2.1.2,!=2.1.6,>=2.0.3 in /opt/conda/lib/python3.8/site-packages (from matplotlib) (2.4.7)\n",
      "Requirement already satisfied: kiwisolver>=1.0.1 in /opt/conda/lib/python3.8/site-packages (from matplotlib) (1.3.0)\n",
      "Requirement already satisfied: cycler>=0.10 in /opt/conda/lib/python3.8/site-packages (from matplotlib) (0.10.0)\n",
      "Requirement already satisfied: numpy>=1.15 in /opt/conda/lib/python3.8/site-packages (from matplotlib) (1.19.2)\n",
      "Requirement already satisfied: six>=1.5 in /opt/conda/lib/python3.8/site-packages (from python-dateutil>=2.1->matplotlib) (1.15.0)\n"
     ]
    },
    {
     "data": {
      "text/plain": [
       "''"
      ]
     },
     "execution_count": 5,
     "metadata": {},
     "output_type": "execute_result"
    }
   ],
   "source": [
    "!pip install matplotlib\n",
    "\"\"\"\n",
    "Performance analysis\n",
    "- x-axis: n\n",
    "- y-axis: O(f(n))\n",
    "\n",
    "\"\"\"\n",
    "import matplotlib as plt\n",
    "\n",
    "_"
   ]
  },
  {
   "cell_type": "code",
   "execution_count": null,
   "metadata": {},
   "outputs": [],
   "source": []
  }
 ],
 "metadata": {
  "kernelspec": {
   "display_name": "Python 3",
   "language": "python",
   "name": "python3"
  },
  "language_info": {
   "codemirror_mode": {
    "name": "ipython",
    "version": 3
   },
   "file_extension": ".py",
   "mimetype": "text/x-python",
   "name": "python",
   "nbconvert_exporter": "python",
   "pygments_lexer": "ipython3",
   "version": "3.8.6"
  }
 },
 "nbformat": 4,
 "nbformat_minor": 2
}
