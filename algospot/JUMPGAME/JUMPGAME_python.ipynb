{
 "cells": [
  {
   "cell_type": "code",
   "execution_count": 1,
   "metadata": {
    "scrolled": false
   },
   "outputs": [
    {
     "name": "stdout",
     "output_type": "stream",
     "text": [
      "Requirement already up-to-date: pip in /opt/conda/lib/python3.8/site-packages (20.2.4)\n",
      "Requirement already satisfied: flake8 in /opt/conda/lib/python3.8/site-packages (3.8.4)\n",
      "Requirement already satisfied: pycodestyle_magic in /opt/conda/lib/python3.8/site-packages (0.5)\n",
      "Requirement already satisfied: mccabe<0.7.0,>=0.6.0 in /opt/conda/lib/python3.8/site-packages (from flake8) (0.6.1)\n",
      "Requirement already satisfied: pycodestyle<2.7.0,>=2.6.0a1 in /opt/conda/lib/python3.8/site-packages (from flake8) (2.6.0)\n",
      "Requirement already satisfied: pyflakes<2.3.0,>=2.2.0 in /opt/conda/lib/python3.8/site-packages (from flake8) (2.2.0)\n"
     ]
    }
   ],
   "source": [
    "# Enforces PEP-8 style guideline\n",
    "!pip install --upgrade pip\n",
    "!pip install flake8 pycodestyle_magic\n",
    "\n",
    "# Adds upper path to import common module\n",
    "import sys\n",
    "sys.path.append('../../')"
   ]
  },
  {
   "cell_type": "code",
   "execution_count": 2,
   "metadata": {},
   "outputs": [],
   "source": [
    "%load_ext pycodestyle_magic\n",
    "%pycodestyle_on"
   ]
  },
  {
   "cell_type": "code",
   "execution_count": 3,
   "metadata": {},
   "outputs": [
    {
     "name": "stdout",
     "output_type": "stream",
     "text": [
      "0\n"
     ]
    }
   ],
   "source": [
    "\"\"\"\n",
    "Version 1:\n",
    "- used methods: DP\n",
    "\n",
    "\"\"\"\n",
    "from functools import lru_cache\n",
    "\n",
    "\n",
    "# Starting from (0, 0) can reach endpoint(n-1, n-1)?\n",
    "def solution(board):\n",
    "    n = len(board)\n",
    "\n",
    "    @lru_cache(maxsize=10000)\n",
    "    def solve(x, y):\n",
    "        # Out of board\n",
    "        if (x < 0 or x >= n) or (y < 0 or y >= n):\n",
    "            return False\n",
    "\n",
    "        # Goal\n",
    "        if x == (n-1) and y == (n-1):\n",
    "            return True\n",
    "\n",
    "        # Go right or down\n",
    "        step = board[y][x]\n",
    "        return solve(x + step, y) or solve(x, y + step)\n",
    "\n",
    "    return 'YES' if solve(0, 0) else 'NO'\n",
    "\n",
    "\n",
    "C = int(input())\n",
    "for _ in range(C):\n",
    "    n = int(input())\n",
    "    board = []\n",
    "    for _ in range(n):\n",
    "        row = list(map(int, input().split()))\n",
    "        board.append(row)\n",
    "\n",
    "    result = solution(board)\n",
    "    print(result)"
   ]
  },
  {
   "cell_type": "code",
   "execution_count": 4,
   "metadata": {},
   "outputs": [
    {
     "name": "stdout",
     "output_type": "stream",
     "text": [
      "[0.00004840] 'solution([[2, 5, 1, 6, 1, 4, 1], [6, 1, 1, 2, 2, 9, 3], [7, 2, 3, 2, 1, 3, 1], [1, 1, 3, 1, 7, 1, 2], [4, 1, 2, 3, 4, 1... → 'YES'\n",
      "Case 1 PASS\n",
      "\n",
      "[0.00005484] 'solution([[2, 5, 1, 6, 1, 4, 1], [6, 1, 1, 2, 2, 9, 3], [7, 2, 3, 2, 1, 3, 1], [1, 1, 3, 1, 7, 1, 2], [4, 1, 2, 3, 4, 1... → 'NO'\n",
      "Case 2 PASS\n",
      "\n",
      "[0.00932598] 'solution([[1, 1, 1, 1, 1, 1, 1, 1, 1, 1, 1, 1, 1, 1, 1, 1, 1, 1, 1, 1, 1, 1, 1, 1, 1, 1, 1, 1, 1, 1, 1, 1, 1, 1, 1, 1, ... → 'NO'\n",
      "Case 3 PASS\n",
      "\n",
      "\n",
      "All test(s) have passed\n"
     ]
    }
   ],
   "source": [
    "\"\"\"\n",
    "Testing\n",
    "\n",
    "\"\"\"\n",
    "import helpers as hlpr\n",
    "\n",
    "f = hlpr.clock(hlpr.timeout(seconds=10)(solution))\n",
    "test_cases = [\n",
    "    (([\n",
    "        [2, 5, 1, 6, 1, 4, 1],\n",
    "        [6, 1, 1, 2, 2, 9, 3],\n",
    "        [7, 2, 3, 2, 1, 3, 1],\n",
    "        [1, 1, 3, 1, 7, 1, 2],\n",
    "        [4, 1, 2, 3, 4, 1, 2],\n",
    "        [3, 3, 1, 2, 3, 4, 1],\n",
    "        [1, 5, 2, 9, 4, 7, 0],\n",
    "    ],),\n",
    "     'YES'),\n",
    "    (([\n",
    "        [2, 5, 1, 6, 1, 4, 1],\n",
    "        [6, 1, 1, 2, 2, 9, 3],\n",
    "        [7, 2, 3, 2, 1, 3, 1],\n",
    "        [1, 1, 3, 1, 7, 1, 2],\n",
    "        [4, 1, 2, 3, 4, 1, 3],\n",
    "        [3, 3, 1, 2, 3, 4, 1],\n",
    "        [1, 5, 2, 9, 4, 7, 0],\n",
    "    ],),\n",
    "     'NO'),\n",
    "    (([\n",
    "        *([[1] * 100]*98),\n",
    "        [*([1] * 99), 2],\n",
    "        [*([1] * 98), 2, 0],\n",
    "    ],),\n",
    "     'NO'),\n",
    "]\n",
    "\n",
    "passed, failed = [], []\n",
    "for idx, tc in enumerate(test_cases, start=1):\n",
    "    case, expected = tc\n",
    "    result = None\n",
    "    try:\n",
    "        result = f(*case)\n",
    "        assert result == expected, \\\n",
    "            'wants {} but got {}'.format(hlpr.truncate(expected, 20), hlpr.truncate(result, 20))  # noqa: E501\n",
    "    except Exception as err:\n",
    "        fmt = 'Case {} FAIL: {}'\n",
    "        print(fmt.format(idx, str(err)))\n",
    "        failed.append(idx)\n",
    "    else:\n",
    "        fmt = 'Case {} PASS'\n",
    "        print(fmt.format(idx))\n",
    "        passed.append(idx)\n",
    "\n",
    "    print()\n",
    "\n",
    "print()\n",
    "if len(passed) == len(test_cases):\n",
    "    print('All test(s) have passed')\n",
    "else:\n",
    "    fmt = '{} of {} test(s) failed: {}'\n",
    "    print(fmt.format(len(failed), len(test_cases), ', '.join(map(str, failed))))  # noqa: E501"
   ]
  },
  {
   "cell_type": "code",
   "execution_count": null,
   "metadata": {},
   "outputs": [],
   "source": [
    "!pip install matplotlib\n",
    "\"\"\"\n",
    "Performance analysis\n",
    "- x-axis: n\n",
    "- y-axis: O(f(n))\n",
    "\n",
    "\"\"\"\n",
    "import matplotlib as plt\n",
    "\n",
    "_"
   ]
  },
  {
   "cell_type": "code",
   "execution_count": null,
   "metadata": {},
   "outputs": [],
   "source": []
  }
 ],
 "metadata": {
  "kernelspec": {
   "display_name": "Python 3",
   "language": "python",
   "name": "python3"
  },
  "language_info": {
   "codemirror_mode": {
    "name": "ipython",
    "version": 3
   },
   "file_extension": ".py",
   "mimetype": "text/x-python",
   "name": "python",
   "nbconvert_exporter": "python",
   "pygments_lexer": "ipython3",
   "version": "3.8.6"
  }
 },
 "nbformat": 4,
 "nbformat_minor": 2
}
