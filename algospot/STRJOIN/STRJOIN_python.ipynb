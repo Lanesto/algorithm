{
 "cells": [
  {
   "cell_type": "code",
   "execution_count": 1,
   "metadata": {},
   "outputs": [],
   "source": [
    "%load_ext pycodestyle_magic\n",
    "%pycodestyle_on"
   ]
  },
  {
   "cell_type": "code",
   "execution_count": 2,
   "metadata": {},
   "outputs": [],
   "source": [
    "import helpers"
   ]
  },
  {
   "cell_type": "code",
   "execution_count": 3,
   "metadata": {},
   "outputs": [],
   "source": [
    "\"\"\"\n",
    "Version 1:\n",
    "- used methods: Greedy\n",
    "\n",
    "\"\"\"\n",
    "import heapq\n",
    "\n",
    "\n",
    "# Returns the minimum cost of merging all items\n",
    "def solution(lengths):\n",
    "    hq = lengths[:]\n",
    "    heapq.heapify(hq)\n",
    "    acc = 0\n",
    "    while hq:\n",
    "        x = heapq.heappop(hq)\n",
    "        try:\n",
    "            y = heapq.heappop(hq)\n",
    "        except IndexError:  # If no second items\n",
    "            break\n",
    "\n",
    "        acc += (x + y)\n",
    "        heapq.heappush(hq, x + y)\n",
    "\n",
    "    return acc\n",
    "\n",
    "\n",
    "# Main I/O part\n",
    "def main(rl):\n",
    "    C = int(rl())\n",
    "    for _ in range(C):\n",
    "        _ = rl()  # n\n",
    "        lengths = list(map(int, rl().split()))\n",
    "        result = solution(lengths)\n",
    "        print(result)\n",
    "\n",
    "\n",
    "# Additional codes to simulate I/O\n",
    "try:\n",
    "    import IPython\n",
    "except ImportError as _:\n",
    "    # Submit env\n",
    "    import sys\n",
    "    main(sys.stdin.readline)\n",
    "else:\n",
    "    from helpers import runner\n",
    "    # IPython env\n",
    "    runner.run(main)"
   ]
  },
  {
   "cell_type": "code",
   "execution_count": 4,
   "metadata": {
    "tags": []
   },
   "outputs": [
    {
     "output_type": "stream",
     "name": "stdout",
     "text": [
      "[0.00000740] solution([2, 2, 4]) → 12\nTest 1 passed\n\n[0.00000860] solution([3, 1, 3, 4, 1]) → 26\nTest 2 passed\n\n[0.00000900] solution([1, 1, 1, 1, 1, 1, 1, 2]) → 27\nTest 3 passed\n\n\nAll 3 tests passed.\n"
     ]
    }
   ],
   "source": [
    "\"\"\"\n",
    "Testing\n",
    "\n",
    "\"\"\"\n",
    "from helpers import testing\n",
    "\n",
    "test_cases = [\n",
    "    {\n",
    "        'input': [\n",
    "            [2, 2, 4],\n",
    "        ],\n",
    "        'expected': 12,\n",
    "    },\n",
    "    {\n",
    "        'input': [\n",
    "            [3, 1, 3, 4, 1],\n",
    "        ],\n",
    "        'expected': 26,\n",
    "    },\n",
    "    {\n",
    "        'input': [\n",
    "            [1, 1, 1, 1, 1, 1, 1, 2],\n",
    "        ],\n",
    "        'expected': 27,\n",
    "    },\n",
    "]\n",
    "\n",
    "testing.run(solution, test_cases)"
   ]
  },
  {
   "cell_type": "code",
   "execution_count": null,
   "metadata": {},
   "outputs": [],
   "source": []
  }
 ],
 "metadata": {
  "kernelspec": {
   "name": "python373jvsc74a57bd031f2aee4e71d21fbe5cf8b01ff0e069b9275f58929596ceb00d14d90e3e16cd6",
   "display_name": "Python 3.7.3 64-bit"
  },
  "language_info": {
   "codemirror_mode": {
    "name": "ipython",
    "version": 3
   },
   "file_extension": ".py",
   "mimetype": "text/x-python",
   "name": "python",
   "nbconvert_exporter": "python",
   "pygments_lexer": "ipython3",
   "version": "3.7.3"
  },
  "metadata": {
   "interpreter": {
    "hash": "31f2aee4e71d21fbe5cf8b01ff0e069b9275f58929596ceb00d14d90e3e16cd6"
   }
  }
 },
 "nbformat": 4,
 "nbformat_minor": 2
}