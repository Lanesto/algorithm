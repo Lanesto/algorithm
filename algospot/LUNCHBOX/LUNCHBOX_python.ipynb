{
 "cells": [
  {
   "cell_type": "code",
   "execution_count": 1,
   "metadata": {},
   "outputs": [],
   "source": [
    "%load_ext pycodestyle_magic\n",
    "%pycodestyle_on"
   ]
  },
  {
   "cell_type": "code",
   "execution_count": 2,
   "metadata": {},
   "outputs": [],
   "source": [
    "import helpers"
   ]
  },
  {
   "cell_type": "code",
   "execution_count": 7,
   "metadata": {},
   "outputs": [],
   "source": [
    "\"\"\"\n",
    "Version 1:\n",
    "- used methods: Greedy\n",
    "\n",
    "\"\"\"\n",
    "from operator import itemgetter\n",
    "\n",
    "\n",
    "# Returns the minimum time takes all participants to eat lunch.\n",
    "def solution(M, E):\n",
    "    # Sort by E, in descending order.\n",
    "    pair = list(zip(M, E))\n",
    "    pair.sort(key=itemgetter(1), reverse=True)\n",
    "\n",
    "    # r = max(r, Σm(0...i) + e(i))\n",
    "    psum = 0\n",
    "    result = sum(M)\n",
    "    for m, e in pair:\n",
    "        psum += m\n",
    "        result = max(result, psum + e)\n",
    "\n",
    "    return result\n",
    "\n",
    "\n",
    "# Main I/O part\n",
    "def main(rl):\n",
    "    T = int(rl())\n",
    "    for _ in range(T):\n",
    "        _ = rl()  # N\n",
    "        M = list(map(int, rl().split()))\n",
    "        E = list(map(int, rl().split()))\n",
    "        result = solution(M, E)\n",
    "        print(result)\n",
    "\n",
    "\n",
    "# Additional codes to simulate I/O\n",
    "try:\n",
    "    import IPython\n",
    "except ImportError as _:\n",
    "    # Submit env\n",
    "    import sys\n",
    "    main(sys.stdin.readline)\n",
    "else:\n",
    "    from helpers import runner\n",
    "    # IPython env\n",
    "    runner.run(main)"
   ]
  },
  {
   "cell_type": "code",
   "execution_count": 8,
   "metadata": {
    "tags": []
   },
   "outputs": [
    {
     "output_type": "stream",
     "name": "stdout",
     "text": [
      "[0.00000860] solution([2, 2, 2], [2, 2, 2]) → 8\nTest 1 passed\n\n[0.00000870] solution([1, 2, 3], [3, 2, 1]) → 7\nTest 2 passed\n\n[0.00000760] solution([3, 3, 3], [12, 2, 10]) → 16\nTest 3 passed\n\n\nAll 3 tests passed.\n"
     ]
    }
   ],
   "source": [
    "\"\"\"\n",
    "Testing\n",
    "\n",
    "\"\"\"\n",
    "from helpers import testing\n",
    "\n",
    "test_cases = [\n",
    "    {\n",
    "        'input': [\n",
    "            [2, 2, 2],\n",
    "            [2, 2, 2],\n",
    "        ],\n",
    "        'expected': 8,\n",
    "    },\n",
    "    {\n",
    "        'input': [\n",
    "            [1, 2, 3],\n",
    "            [3, 2, 1],\n",
    "        ],\n",
    "        'expected': 7,\n",
    "    },\n",
    "    {\n",
    "        'input': [\n",
    "            [3, 3, 3],\n",
    "            [12, 2, 10],\n",
    "        ],\n",
    "        'expected': 16,\n",
    "    }\n",
    "]\n",
    "\n",
    "testing.run(solution, test_cases)"
   ]
  },
  {
   "cell_type": "code",
   "execution_count": null,
   "metadata": {},
   "outputs": [],
   "source": []
  }
 ],
 "metadata": {
  "kernelspec": {
   "name": "python373jvsc74a57bd031f2aee4e71d21fbe5cf8b01ff0e069b9275f58929596ceb00d14d90e3e16cd6",
   "display_name": "Python 3.7.3 64-bit"
  },
  "language_info": {
   "codemirror_mode": {
    "name": "ipython",
    "version": 3
   },
   "file_extension": ".py",
   "mimetype": "text/x-python",
   "name": "python",
   "nbconvert_exporter": "python",
   "pygments_lexer": "ipython3",
   "version": "3.7.3"
  },
  "metadata": {
   "interpreter": {
    "hash": "31f2aee4e71d21fbe5cf8b01ff0e069b9275f58929596ceb00d14d90e3e16cd6"
   }
  }
 },
 "nbformat": 4,
 "nbformat_minor": 2
}