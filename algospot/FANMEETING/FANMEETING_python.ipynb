{
 "cells": [
  {
   "cell_type": "code",
   "execution_count": 1,
   "metadata": {
    "scrolled": false
   },
   "outputs": [
    {
     "name": "stdout",
     "output_type": "stream",
     "text": [
      "Requirement already up-to-date: pip in /opt/conda/lib/python3.8/site-packages (20.2.4)\n",
      "Requirement already satisfied: flake8 in /opt/conda/lib/python3.8/site-packages (3.8.4)\n",
      "Requirement already satisfied: pycodestyle_magic in /opt/conda/lib/python3.8/site-packages (0.5)\n",
      "Requirement already satisfied: mccabe<0.7.0,>=0.6.0 in /opt/conda/lib/python3.8/site-packages (from flake8) (0.6.1)\n",
      "Requirement already satisfied: pyflakes<2.3.0,>=2.2.0 in /opt/conda/lib/python3.8/site-packages (from flake8) (2.2.0)\n",
      "Requirement already satisfied: pycodestyle<2.7.0,>=2.6.0a1 in /opt/conda/lib/python3.8/site-packages (from flake8) (2.6.0)\n"
     ]
    }
   ],
   "source": [
    "# Enforces PEP-8 style guideline\n",
    "!pip install --upgrade pip\n",
    "!pip install flake8 pycodestyle_magic\n",
    "\n",
    "# Adds upper path to import common module\n",
    "import sys\n",
    "sys.path.append(\"../../\")"
   ]
  },
  {
   "cell_type": "code",
   "execution_count": 2,
   "metadata": {},
   "outputs": [],
   "source": [
    "%load_ext pycodestyle_magic\n",
    "%pycodestyle_on"
   ]
  },
  {
   "cell_type": "code",
   "execution_count": 3,
   "metadata": {},
   "outputs": [
    {
     "name": "stdout",
     "output_type": "stream",
     "text": [
      "0\n"
     ]
    }
   ],
   "source": [
    "\"\"\"\n",
    "Version 1:\n",
    "- used methods: bitmask\n",
    "\n",
    "                  M2 M1 M0\n",
    "F5 F4 F3 F2 F1 F0 →\n",
    "\n",
    "\n",
    "members                         M0   M1   M2\n",
    "fans   __   __   F5   F4   F3   F2   F1   F0\n",
    " × -----------------------------------------\n",
    "                              M0F0 M1F0 M2F0\n",
    "                         M0F1 M1F1 M2F1\n",
    "                    M0F2 M1F2 M2F2\n",
    "               M0F3 M1F3 M2F3\n",
    "          M0F4 M1F4 M2F4\n",
    "     M0F5 M1F5 M2F5\n",
    "\n",
    "-         male(1)      female(0)\n",
    "male(1)   handshake(1) hug(0)\n",
    "female(0) hug(0)       hug(0)\n",
    "\n",
    "\"\"\"\n",
    "\n",
    "\n",
    "# How many times all members hugs with fans\n",
    "def solution(members, fans):\n",
    "    walk = len(fans) - len(members) + 1\n",
    "    members = ''.join(['1' if c == 'M' else '0' for c in members])\n",
    "    members = int(members, 2)\n",
    "    fans = ''.join(['1' if c == 'M' else '0' for c in fans])\n",
    "    fans = int(fans, 2)\n",
    "    cnt = 0\n",
    "\n",
    "    for i in range(walk):\n",
    "        if members & fans == 0:\n",
    "            cnt += 1\n",
    "\n",
    "        fans >>= 1\n",
    "\n",
    "    return cnt\n",
    "\n",
    "\n",
    "C = int(input())\n",
    "for _ in range(C):\n",
    "    members = input()\n",
    "    fans = input()\n",
    "    result = solution(members, fans)\n",
    "    print(result)"
   ]
  },
  {
   "cell_type": "code",
   "execution_count": 4,
   "metadata": {},
   "outputs": [
    {
     "name": "stdout",
     "output_type": "stream",
     "text": [
      "[0.00000834] solution('FFFMMM', 'MMMFFF') → 1\n",
      "[0.00000668] solution('FFFFF', 'FFFFFFFFFF') → 6\n",
      "[0.00000763] solution('FFFFM', 'FFFFFMMMMF') → 2\n",
      "[0.00001383] solution('MFMFMFFFMMMFMF', 'MMFFFFFMFFFMFFFFFFMFFFMFFFFMFMMFFFFFFF') → 2\n",
      "All tests done.\n"
     ]
    }
   ],
   "source": [
    "\"\"\"\n",
    "Testing\n",
    "\n",
    "\"\"\"\n",
    "import helpers as hlpr\n",
    "\n",
    "f = hlpr.clock(solution)\n",
    "test_cases = [\n",
    "    ((\"FFFMMM\", \"MMMFFF\"),\n",
    "     1),\n",
    "    ((\"FFFFF\", \"FFFFFFFFFF\"),\n",
    "     6),\n",
    "    ((\"FFFFM\", \"FFFFFMMMMF\"),\n",
    "     2),\n",
    "    ((\"MFMFMFFFMMMFMF\", \"MMFFFFFMFFFMFFFFFFMFFFMFFFFMFMMFFFFFFF\"),\n",
    "     2),\n",
    "    # ((\"M\"*200000, \"M\"*200000),\n",
    "    #  0),\n",
    "]\n",
    "\n",
    "fmt = \"Case {} expects {} but got {}\"\n",
    "for idx, tc in enumerate(test_cases):\n",
    "    case, expected = tc\n",
    "    result = f(*case)\n",
    "    assert result == expected, \\\n",
    "        fmt.format(idx, hlpr.truncate(expected, 50), hlpr.truncate(result, 50))\n",
    "\n",
    "hlpr.debug_msg(\"All tests done.\")"
   ]
  },
  {
   "cell_type": "code",
   "execution_count": null,
   "metadata": {},
   "outputs": [],
   "source": [
    "!pip install matplotlib\n",
    "\"\"\"\n",
    "Performance analysis\n",
    "- x-axis: n\n",
    "- y-axis: O(f(n))\n",
    "\n",
    "\"\"\"\n",
    "import matplotlib as plt\n",
    "\n",
    "_"
   ]
  },
  {
   "cell_type": "code",
   "execution_count": null,
   "metadata": {},
   "outputs": [],
   "source": []
  }
 ],
 "metadata": {
  "kernelspec": {
   "display_name": "Python 3",
   "language": "python",
   "name": "python3"
  },
  "language_info": {
   "codemirror_mode": {
    "name": "ipython",
    "version": 3
   },
   "file_extension": ".py",
   "mimetype": "text/x-python",
   "name": "python",
   "nbconvert_exporter": "python",
   "pygments_lexer": "ipython3",
   "version": "3.8.6"
  }
 },
 "nbformat": 4,
 "nbformat_minor": 2
}
