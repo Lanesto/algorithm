{
 "cells": [
  {
   "cell_type": "code",
   "execution_count": 1,
   "metadata": {},
   "outputs": [],
   "source": [
    "%load_ext pycodestyle_magic\n",
    "%pycodestyle_on"
   ]
  },
  {
   "cell_type": "code",
   "execution_count": 2,
   "metadata": {},
   "outputs": [],
   "source": [
    "import helpers"
   ]
  },
  {
   "cell_type": "code",
   "execution_count": 3,
   "metadata": {},
   "outputs": [],
   "source": [
    "\"\"\"\n",
    "Version 1:\n",
    "- used methods: greedy\n",
    "\n",
    "\"\"\"\n",
    "import bisect\n",
    "\n",
    "\n",
    "# Returns maximum win count, if knowing russia's team play order.\n",
    "def solution(russia, korea):\n",
    "    korea.sort()\n",
    "    strongest = korea[-1]\n",
    "    win = 0\n",
    "\n",
    "    for rating in russia:\n",
    "        if rating > strongest:\n",
    "            korea.pop(0)  # Weakest player next\n",
    "        else:\n",
    "            # Equal or first bigger rating player next\n",
    "            korea.pop(bisect.bisect_left(korea, rating))\n",
    "            win += 1\n",
    "\n",
    "    return win\n",
    "\n",
    "\n",
    "# Main I/O part\n",
    "def main(rl):\n",
    "    C = int(rl())\n",
    "    for _ in range(C):\n",
    "        N = int(rl())\n",
    "        russia = list(map(int, rl().split()))\n",
    "        korea = list(map(int, rl().split()))\n",
    "        result = solution(russia, korea)\n",
    "        print(result)\n",
    "\n",
    "\n",
    "# Additional codes to simulate I/O\n",
    "try:\n",
    "    import IPython\n",
    "except ImportError as _:\n",
    "    # Submit env\n",
    "    import sys\n",
    "    main(sys.stdin.readline)\n",
    "else:\n",
    "    from helpers import runner\n",
    "    # IPython env\n",
    "    runner.run(main)"
   ]
  },
  {
   "cell_type": "code",
   "execution_count": 5,
   "metadata": {
    "tags": []
   },
   "outputs": [
    {
     "output_type": "stream",
     "name": "stdout",
     "text": [
      "[0.00000730] solution([3000, 2700, 2800, 2200, 2500, 1900], [2) → 5\nTest 1 passed\n\n[0.00000580] solution([1, 2, 3], [3, 2, 1]) → 3\nTest 2 passed\n\n[0.00000380] solution([2, 3, 4, 5], [1, 2, 3, 4]) → 3\nTest 3 passed\n\n[0.00000230] solution([1], [1]) → 1\nTest 4 passed\n\n[0.00045050] solution([100, 99, 98, 97, 96, 95, 94, 93, 92, 91) → 100\nTest 5 passed\n\n\nAll 5 tests passed.\n"
     ]
    }
   ],
   "source": [
    "\"\"\"\n",
    "Testing\n",
    "\n",
    "\"\"\"\n",
    "from helpers import testing\n",
    "\n",
    "\n",
    "def epsilon(a, b):\n",
    "    return abs(b - a) < 10e-8\n",
    "\n",
    "\n",
    "test_cases = [\n",
    "    {\n",
    "        'input': [\n",
    "            [3000, 2700, 2800, 2200, 2500, 1900],\n",
    "            [2800, 2750, 2995, 1800, 2600, 2000]\n",
    "        ],\n",
    "        'expected': 5,\n",
    "    },\n",
    "    {\n",
    "        'input': [\n",
    "            [1, 2, 3],\n",
    "            [3, 2, 1],\n",
    "        ],\n",
    "        'expected': 3,\n",
    "    },\n",
    "    {\n",
    "        'input': [\n",
    "            [2, 3, 4, 5],\n",
    "            [1, 2, 3, 4],\n",
    "        ],\n",
    "        'expected': 3,\n",
    "    },\n",
    "    {\n",
    "        'input': [\n",
    "            [1],\n",
    "            [1],\n",
    "        ],\n",
    "        'expected': 1,\n",
    "    },\n",
    "    {\n",
    "        'input': [\n",
    "            list(reversed(range(1, 101))),\n",
    "            list(range(1, 101)),\n",
    "        ],\n",
    "        'expected': 100,\n",
    "    }\n",
    "]\n",
    "\n",
    "testing.run(solution, test_cases)"
   ]
  },
  {
   "cell_type": "code",
   "execution_count": null,
   "metadata": {},
   "outputs": [],
   "source": []
  }
 ],
 "metadata": {
  "kernelspec": {
   "name": "python3",
   "display_name": "Python 3",
   "language": "python"
  },
  "language_info": {
   "codemirror_mode": {
    "name": "ipython",
    "version": 3
   },
   "file_extension": ".py",
   "mimetype": "text/x-python",
   "name": "python",
   "nbconvert_exporter": "python",
   "pygments_lexer": "ipython3",
   "version": "3.7.3"
  }
 },
 "nbformat": 4,
 "nbformat_minor": 2
}