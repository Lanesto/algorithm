{
 "cells": [
  {
   "cell_type": "code",
   "execution_count": 1,
   "metadata": {
    "scrolled": false
   },
   "outputs": [],
   "source": [
    "# Add path candidates to sys.path to import utility / helper modules\n",
    "import sys\n",
    "sys.path.append('/workspace')"
   ]
  },
  {
   "cell_type": "code",
   "execution_count": 2,
   "metadata": {},
   "outputs": [],
   "source": [
    "%load_ext pycodestyle_magic\n",
    "%pycodestyle_on"
   ]
  },
  {
   "cell_type": "code",
   "execution_count": 3,
   "metadata": {},
   "outputs": [],
   "source": [
    "\"\"\"\n",
    "Version 1:\n",
    "- used methods: DP\n",
    "\n",
    "\"\"\"\n",
    "from functools import lru_cache\n",
    "\n",
    "INF = float('inf')\n",
    "\n",
    "\n",
    "# Solution for NUMBERGAME\n",
    "def solution(board):\n",
    "    # Returns the maximum difference of score between two players\n",
    "    @lru_cache(maxsize=50*50)\n",
    "    def solve(left, right):\n",
    "        # No remaining number on board\n",
    "        if right < left:\n",
    "            return 0\n",
    "\n",
    "        ret = -INF\n",
    "        # Take 2 number from left or right if possible\n",
    "        if right - left >= 1:\n",
    "            ret = max(- solve(left + 2, right),\n",
    "                      - solve(left, right - 2))\n",
    "\n",
    "        # Take 1 number from left or right\n",
    "        ret = max(ret,\n",
    "                  board[left] - solve(left + 1, right),\n",
    "                  board[right] - solve(left, right - 1))\n",
    "\n",
    "        return ret\n",
    "\n",
    "    result = solve(0, len(board) - 1)\n",
    "    return result\n",
    "\n",
    "\n",
    "# Main I/O part\n",
    "def main(rl):\n",
    "    C = int(rl())\n",
    "    for _ in range(C):\n",
    "        _ = rl()\n",
    "        board = list(map(int, rl().split()))\n",
    "        result = solution(board)\n",
    "        print(result)\n",
    "\n",
    "\n",
    "# Additional codes to simulate I/O\n",
    "try:\n",
    "    import IPython\n",
    "except ImportError as _:\n",
    "    # Submit env\n",
    "    import sys\n",
    "    main(sys.stdin.readline)\n",
    "else:\n",
    "    from helpers import runner\n",
    "    # IPython env\n",
    "    runner.run(main)"
   ]
  },
  {
   "cell_type": "code",
   "execution_count": 4,
   "metadata": {
    "tags": []
   },
   "outputs": [
    {
     "output_type": "stream",
     "name": "stdout",
     "text": [
      "[0.00004100] solution([-1000, -1000, -3, -1000, -1000]) → -1000\nCase 1 PASS\n\n[0.00004550] solution([100, -1000, -1000, 100, -1000, -1000]) → 1100\nCase 2 PASS\n\n[0.00009830] solution([7, -5, 8, 5, 1, -4, -8, 6, 7, 9]) → 7\nCase 3 PASS\n\n[0.00266710] solution([-1000, -1000, -1000, -1000, -1000, -100) → 0\nCase 4 PASS\n\n         3848 function calls (2523 primitive calls) in 0.003 seconds\n\n   Ordered by: standard name\n\n   ncalls  tottime  percall  cumtime  percall filename:lineno(function)\n        1    0.000    0.000    0.003    0.003 <ipython-input-3-45e208830a92>:12(solution)\n   1326/1    0.002    0.000    0.003    0.003 <ipython-input-3-45e208830a92>:14(solve)\n        1    0.000    0.000    0.003    0.003 <string>:1(<module>)\n        1    0.000    0.000    0.000    0.000 functools.py:37(update_wrapper)\n        1    0.000    0.000    0.000    0.000 functools.py:445(lru_cache)\n        1    0.000    0.000    0.000    0.000 functools.py:479(decorating_function)\n        1    0.000    0.000    0.003    0.003 {built-in method builtins.exec}\n        7    0.000    0.000    0.000    0.000 {built-in method builtins.getattr}\n        1    0.000    0.000    0.000    0.000 {built-in method builtins.isinstance}\n        1    0.000    0.000    0.000    0.000 {built-in method builtins.len}\n     2500    0.001    0.000    0.001    0.000 {built-in method builtins.max}\n        5    0.000    0.000    0.000    0.000 {built-in method builtins.setattr}\n        1    0.000    0.000    0.000    0.000 {method 'disable' of '_lsprof.Profiler' objects}\n        1    0.000    0.000    0.000    0.000 {method 'update' of 'dict' objects}\n\n\n\n\nAll 4 test(s) have passed\n"
     ]
    }
   ],
   "source": [
    "\"\"\"\n",
    "Testing\n",
    "\n",
    "\"\"\"\n",
    "from helpers import testing\n",
    "\n",
    "\n",
    "test_cases = [\n",
    "    {\n",
    "        'input': [[-1000, -1000, -3, -1000, -1000]],\n",
    "        'expected': -1000,\n",
    "    },\n",
    "    {\n",
    "        'input': [[100, -1000, -1000, 100, -1000, -1000]],\n",
    "        'expected': 1100,\n",
    "    },\n",
    "    {\n",
    "        'input': [[7, -5, 8, 5, 1, -4, -8, 6, 7, 9]],\n",
    "        'expected': 7,\n",
    "    },\n",
    "    {\n",
    "        'input': [[-1000] * 50],\n",
    "        'expected': 0,\n",
    "        'verbose': True,\n",
    "    }\n",
    "]\n",
    "\n",
    "testing.run(solution, test_cases)"
   ]
  },
  {
   "cell_type": "code",
   "execution_count": null,
   "metadata": {},
   "outputs": [],
   "source": []
  }
 ],
 "metadata": {
  "kernelspec": {
   "name": "python3",
   "display_name": "Python 3.7.3 64-bit",
   "metadata": {
    "interpreter": {
     "hash": "31f2aee4e71d21fbe5cf8b01ff0e069b9275f58929596ceb00d14d90e3e16cd6"
    }
   }
  },
  "language_info": {
   "codemirror_mode": {
    "name": "ipython",
    "version": 3
   },
   "file_extension": ".py",
   "mimetype": "text/x-python",
   "name": "python",
   "nbconvert_exporter": "python",
   "pygments_lexer": "ipython3",
   "version": "3.7.3-final"
  }
 },
 "nbformat": 4,
 "nbformat_minor": 2
}