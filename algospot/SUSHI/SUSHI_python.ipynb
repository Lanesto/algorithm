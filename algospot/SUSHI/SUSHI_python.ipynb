{
 "cells": [
  {
   "cell_type": "code",
   "execution_count": 1,
   "metadata": {
    "scrolled": false
   },
   "outputs": [],
   "source": [
    "# Add path candidates to sys.path to import utility / helper modules\n",
    "import sys\n",
    "sys.path.append('/workspace')"
   ]
  },
  {
   "cell_type": "code",
   "execution_count": 2,
   "metadata": {},
   "outputs": [],
   "source": [
    "%load_ext pycodestyle_magic\n",
    "%pycodestyle_on"
   ]
  },
  {
   "cell_type": "code",
   "execution_count": 3,
   "metadata": {},
   "outputs": [],
   "source": [
    "\"\"\"\n",
    "Version 1:\n",
    "- used methods: Iterative DP + Greedy\n",
    "\n",
    "References:\n",
    "- Solution by invigorator: https://algospot.com/judge/submission/detail/668372\n",
    "\n",
    "\"\"\"  # noqa: E501\n",
    "from collections import namedtuple\n",
    "\n",
    "# Greedily consumes input(budget) before run DP\n",
    "# WARNING: value 400, 1000 fails for judge\n",
    "GRREDY_CONSUME_SIZE = 2000\n",
    "\n",
    "Item = namedtuple('Item', 'price pref')\n",
    "\n",
    "\n",
    "# Solution for SUSHI\n",
    "def solution(budget, catalog):\n",
    "    n = len(catalog)\n",
    "\n",
    "    # Preprocess; drop below 100\n",
    "    budget //= 100\n",
    "    catalog = [Item(price=(a // 100), pref=b) for a, b in catalog]\n",
    "    top = min(catalog, key=lambda t: t.price / t.pref)\n",
    "\n",
    "    # Init cache\n",
    "    cache = [0] * 201\n",
    "\n",
    "    # Returns the maximum sum of preference earnable for given budget\n",
    "    def solve(b):\n",
    "        # Greedy consume\n",
    "        if b > GRREDY_CONSUME_SIZE:\n",
    "            k = ((b - GRREDY_CONSUME_SIZE) // top.price) + 1\n",
    "            return k * top.pref + solve(b - k * top.price)\n",
    "\n",
    "        # Iterative DP\n",
    "        ret = 0\n",
    "        for i in range(b + 1):\n",
    "            cand = 0\n",
    "            for item in catalog:\n",
    "                if item.price > i:\n",
    "                    continue\n",
    "\n",
    "                cand = max(cand, item.pref + cache[(i - item.price) % 201])\n",
    "            cache[i % 201] = cand\n",
    "\n",
    "        return cache[i % 201]\n",
    "\n",
    "    result = solve(budget)\n",
    "    return result\n",
    "\n",
    "\n",
    "# Main I/O part\n",
    "def main(rl):\n",
    "    C = int(rl())\n",
    "    for _ in range(C):\n",
    "        n, m = map(int, rl().split())\n",
    "        catalog = []\n",
    "        for _ in range(n):\n",
    "            price, pref = map(int, rl().split())\n",
    "            catalog.append((price, pref))\n",
    "\n",
    "        result = solution(m, catalog)\n",
    "        print(result)\n",
    "\n",
    "\n",
    "# Additional codes to simulate I/O\n",
    "try:\n",
    "    import IPython\n",
    "except ImportError as _:\n",
    "    # Submit env\n",
    "    import sys\n",
    "    main(sys.stdin.readline)\n",
    "else:\n",
    "    from helpers import runner\n",
    "    # IPython env\n",
    "    runner.run(main)"
   ]
  },
  {
   "cell_type": "code",
   "execution_count": 4,
   "metadata": {
    "tags": []
   },
   "outputs": [
    {
     "output_type": "stream",
     "name": "stdout",
     "text": [
      "[0.00020420] solution(10000, [(2500, 7), (3000, 9), (4000, 10)) → 28\nCase 1 PASS\n\n[0.00653340] solution(543975612, [(2500, 7), (3000, 9), (4000,) → 1631925\nCase 2 PASS\n\n[0.02285540] solution(2147483647, [(8100, 19), (18400, 7), (50) → 9544368\nCase 3 PASS\n\n         37606 function calls (37605 primitive calls) in 0.040 seconds\n\n   Ordered by: standard name\n\n   ncalls  tottime  percall  cumtime  percall filename:lineno(function)\n        1    0.000    0.000    0.040    0.040 <ipython-input-3-88df88953eb6>:19(solution)\n        1    0.000    0.000    0.000    0.000 <ipython-input-3-88df88953eb6>:24(<listcomp>)\n       20    0.000    0.000    0.000    0.000 <ipython-input-3-88df88953eb6>:25(<lambda>)\n      2/1    0.029    0.015    0.040    0.040 <ipython-input-3-88df88953eb6>:31(solve)\n        1    0.000    0.000    0.040    0.040 <string>:1(<module>)\n       20    0.000    0.000    0.000    0.000 <string>:1(__new__)\n       20    0.000    0.000    0.000    0.000 {built-in method __new__ of type object at 0x81e8a0}\n        1    0.000    0.000    0.040    0.040 {built-in method builtins.exec}\n        1    0.000    0.000    0.000    0.000 {built-in method builtins.len}\n    37537    0.010    0.000    0.010    0.000 {built-in method builtins.max}\n        1    0.000    0.000    0.000    0.000 {built-in method builtins.min}\n        1    0.000    0.000    0.000    0.000 {method 'disable' of '_lsprof.Profiler' objects}\n\n\n\n\nAll 3 test(s) have passed\n"
     ]
    }
   ],
   "source": [
    "\"\"\"\n",
    "Testing\n",
    "\n",
    "\"\"\"\n",
    "from helpers import testing\n",
    "\n",
    "test_cases = [\n",
    "    {\n",
    "        'input': [10000, [\n",
    "            (2500, 7),\n",
    "            (3000, 9),\n",
    "            (4000, 10),\n",
    "            (5000, 12),\n",
    "            (10000, 20),\n",
    "            (15000, 1),\n",
    "        ]],\n",
    "        'expected': 28,\n",
    "    },\n",
    "    {\n",
    "        'input': [543975612, [\n",
    "            (2500, 7),\n",
    "            (3000, 9),\n",
    "            (4000, 10),\n",
    "            (5000, 12),\n",
    "            (10000, 20),\n",
    "            (15000, 1),\n",
    "        ]],\n",
    "        'expected': 1631925,\n",
    "        'timeout': 30,\n",
    "    },\n",
    "    {\n",
    "        'input': [2147483647, [\n",
    "            (8100, 19),\n",
    "            (18400, 7),\n",
    "            (5000, 13),\n",
    "            (13900, 3),\n",
    "            (16300, 18),\n",
    "            (6100, 16),\n",
    "            (13200, 5),\n",
    "            (7700, 2),\n",
    "            (14000, 8),\n",
    "            (13200, 7),\n",
    "            (13100, 9),\n",
    "            (11700, 16),\n",
    "            (10800, 17),\n",
    "            (3600, 16),\n",
    "            (11900, 6),\n",
    "            (5500, 6),\n",
    "            (18800, 1),\n",
    "            (2600, 8),\n",
    "            (11600, 11),\n",
    "            (18800, 17)\n",
    "        ]],\n",
    "        'expected': 9544368,\n",
    "        'timeout': 60,\n",
    "        'verbose': True\n",
    "    }\n",
    "]\n",
    "\n",
    "testing.run(solution, test_cases)"
   ]
  },
  {
   "cell_type": "code",
   "execution_count": null,
   "metadata": {},
   "outputs": [],
   "source": []
  }
 ],
 "metadata": {
  "kernelspec": {
   "name": "python3",
   "display_name": "Python 3.7.3 64-bit",
   "metadata": {
    "interpreter": {
     "hash": "31f2aee4e71d21fbe5cf8b01ff0e069b9275f58929596ceb00d14d90e3e16cd6"
    }
   }
  },
  "language_info": {
   "codemirror_mode": {
    "name": "ipython",
    "version": 3
   },
   "file_extension": ".py",
   "mimetype": "text/x-python",
   "name": "python",
   "nbconvert_exporter": "python",
   "pygments_lexer": "ipython3",
   "version": "3.7.3-final"
  }
 },
 "nbformat": 4,
 "nbformat_minor": 2
}