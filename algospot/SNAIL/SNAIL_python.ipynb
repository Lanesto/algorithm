{
 "cells": [
  {
   "cell_type": "code",
   "execution_count": 1,
   "metadata": {
    "scrolled": false
   },
   "outputs": [
    {
     "output_type": "stream",
     "name": "stdout",
     "text": [
      "/bin/bash: pip: command not found\n",
      "/bin/bash: pip: command not found\n"
     ]
    }
   ],
   "source": [
    "# Enforces PEP-8 style guideline\n",
    "!pip install --upgrade pip\n",
    "!pip install flake8 pycodestyle_magic\n",
    "\n",
    "# Adds upper path to import common module\n",
    "import sys\n",
    "sys.path.append('../../')"
   ]
  },
  {
   "cell_type": "code",
   "execution_count": 2,
   "metadata": {},
   "outputs": [],
   "source": [
    "%load_ext pycodestyle_magic\n",
    "%pycodestyle_on"
   ]
  },
  {
   "cell_type": "code",
   "execution_count": null,
   "metadata": {},
   "outputs": [],
   "source": [
    "\"\"\"\n",
    "Version 1: RTE (nonzero return code)\n",
    "- used methods: DP\n",
    "\n",
    "\"\"\"\n",
    "from functools import lru_cache\n",
    "\n",
    "\n",
    "# Returns the probability snail can get climb up height during days\n",
    "@lru_cache(maxsize=1000*1000)\n",
    "def solution(height, days):\n",
    "    # Reached top already\n",
    "    if height <= days:\n",
    "        return 1\n",
    "\n",
    "    # Rainy season ends\n",
    "    if days <= 0:\n",
    "        return 1 if height <= 0 else 0\n",
    "\n",
    "    return 0.75 * solution(height - 2, days - 1) \\\n",
    "        + 0.25 * solution(height - 1, days - 1)\n",
    "\n",
    "\n",
    "C = int(input())\n",
    "for _ in range(C):\n",
    "    n, m = list(map(int, input().split()))\n",
    "    result = solution(n, m)\n",
    "    print('{:.10f}'.format(result))"
   ]
  },
  {
   "cell_type": "code",
   "execution_count": 3,
   "metadata": {},
   "outputs": [],
   "source": [
    "\"\"\"\n",
    "Version 2:\n",
    "- used methods: mathematical approach\n",
    "\n",
    "\"\"\"\n",
    "from math import factorial\n",
    "\n",
    "\n",
    "# Returns the probability of snail can get climb up height during days\n",
    "def solution(height, days):\n",
    "    if height <= days:\n",
    "        return 1.0\n",
    "\n",
    "    # Alternative to math.comb if Python version >= 3.8\n",
    "    def comb(n, r):\n",
    "        return factorial(n) // factorial(n - r) // factorial(r)\n",
    "\n",
    "    return sum(\n",
    "        0.75 ** rainy_days * 0.25 ** (days - rainy_days) * comb(days, rainy_days)  # noqa: E501\n",
    "        # (:movement = 2 * :rainy_days + 1 * (:days - :rainy_days)) >= :height\n",
    "        # Thus, :days >= :rainy_days >= (:height - :days)\n",
    "        for rainy_days in range(height - days, days + 1)\n",
    "    )\n",
    "\n",
    "\n",
    "C = int(input())\n",
    "for _ in range(C):\n",
    "    n, m = list(map(int, input().split()))\n",
    "    result = solution(n, m)\n",
    "    print('{:.10f}'.format(result))"
   ]
  },
  {
   "cell_type": "code",
   "execution_count": 4,
   "metadata": {
    "tags": []
   },
   "outputs": [
    {
     "output_type": "stream",
     "name": "stdout",
     "text": [
      "[0.00008488] 'solution(5, 4)' → 0.99609375\nCase 1 PASS\n\n[0.00009441] 'solution(5, 3)' → 0.84375\nCase 2 PASS\n\n[0.00003552] 'solution(4, 2)' → 0.5625\nCase 3 PASS\n\n[0.00003004] 'solution(3, 2)' → 0.9375\nCase 4 PASS\n\n[0.00001860] 'solution(1000, 1000)' → 1.0\nCase 5 PASS\n\n[0.00002694] 'solution(1000, 1)' → 0\nCase 6 PASS\n\n[0.00004864] 'solution(1, 1000)' → 1.0\nCase 7 PASS\n\n[0.00002313] 'solution(1, 1)' → 1.0\nCase 8 PASS\n\n\nAll test(s) have passed\n"
     ]
    }
   ],
   "source": [
    "\"\"\"\n",
    "Testing\n",
    "\n",
    "\"\"\"\n",
    "import helpers as hlpr\n",
    "\n",
    "f = hlpr.clock(hlpr.timeout(seconds=10)(solution))\n",
    "test_cases = [\n",
    "    ((5, 4),\n",
    "     0.9960937500),\n",
    "    ((5, 3),\n",
    "     0.8437500000),\n",
    "    ((4, 2),\n",
    "     0.5625000000),\n",
    "    ((3, 2),\n",
    "     0.9375000000),\n",
    "    ((1000, 1000),\n",
    "     1.0),\n",
    "    ((1000, 1),\n",
    "     0.0),\n",
    "    ((1, 1000),\n",
    "     1.0),\n",
    "    ((1, 1),\n",
    "     1.0),\n",
    "]\n",
    "\n",
    "passed, failed = [], []\n",
    "for idx, tc in enumerate(test_cases, start=1):\n",
    "    case, expected = tc\n",
    "    result = None\n",
    "    try:\n",
    "        result = f(*case)\n",
    "        assert result == expected, \\\n",
    "            'wants {} but got {}'.format(hlpr.truncate(expected, 20), hlpr.truncate(result, 20))  # noqa: E501\n",
    "    except Exception as err:\n",
    "        fmt = 'Case {} FAIL: {}'\n",
    "        print(fmt.format(idx, str(err)))\n",
    "        failed.append(idx)\n",
    "    else:\n",
    "        fmt = 'Case {} PASS'\n",
    "        print(fmt.format(idx))\n",
    "        passed.append(idx)\n",
    "\n",
    "    print()\n",
    "\n",
    "print()\n",
    "if len(passed) == len(test_cases):\n",
    "    print('All test(s) have passed')\n",
    "else:\n",
    "    fmt = '{} of {} test(s) failed: {}'\n",
    "    print(fmt.format(len(failed), len(test_cases), ', '.join(map(str, failed))))  # noqa: E501"
   ]
  },
  {
   "cell_type": "code",
   "execution_count": null,
   "metadata": {},
   "outputs": [],
   "source": [
    "!pip install matplotlib\n",
    "\"\"\"\n",
    "Performance analysis\n",
    "- x-axis: n\n",
    "- y-axis: O(f(n))\n",
    "\n",
    "\"\"\"\n",
    "import matplotlib as plt\n",
    "\n",
    "_"
   ]
  },
  {
   "cell_type": "code",
   "execution_count": null,
   "metadata": {},
   "outputs": [],
   "source": []
  }
 ],
 "metadata": {
  "kernelspec": {
   "name": "python3",
   "display_name": "Python 3.7.3 64-bit",
   "metadata": {
    "interpreter": {
     "hash": "31f2aee4e71d21fbe5cf8b01ff0e069b9275f58929596ceb00d14d90e3e16cd6"
    }
   }
  },
  "language_info": {
   "codemirror_mode": {
    "name": "ipython",
    "version": 3
   },
   "file_extension": ".py",
   "mimetype": "text/x-python",
   "name": "python",
   "nbconvert_exporter": "python",
   "pygments_lexer": "ipython3",
   "version": "3.7.3-final"
  }
 },
 "nbformat": 4,
 "nbformat_minor": 2
}