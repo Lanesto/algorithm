{
 "cells": [
  {
   "cell_type": "code",
   "execution_count": 1,
   "metadata": {
    "scrolled": false
   },
   "outputs": [
    {
     "output_type": "stream",
     "name": "stdout",
     "text": [
      "/bin/bash: pip: command not found\n",
      "/bin/bash: pip: command not found\n"
     ]
    }
   ],
   "source": [
    "# Enforces PEP-8 style guideline\n",
    "!pip install --upgrade pip\n",
    "!pip install flake8 pycodestyle_magic\n",
    "\n",
    "# Adds upper path to import common module\n",
    "import sys\n",
    "sys.path.append('../../')"
   ]
  },
  {
   "cell_type": "code",
   "execution_count": 2,
   "metadata": {},
   "outputs": [],
   "source": [
    "%load_ext pycodestyle_magic\n",
    "%pycodestyle_on"
   ]
  },
  {
   "cell_type": "code",
   "execution_count": 3,
   "metadata": {},
   "outputs": [],
   "source": [
    "\"\"\"\n",
    "Version 1: TIMEOUT\n",
    "- used methods: DP\n",
    "\n",
    "\"\"\"\n",
    "from functools import lru_cache\n",
    "\n",
    "INF = 1234567890987654321\n",
    "\n",
    "\n",
    "# Return the length of maximum path\n",
    "def solution(seq_a, seq_b):\n",
    "    len_a, len_b = len(seq_a), len(seq_b)\n",
    "\n",
    "    @lru_cache(maxsize=100*100)\n",
    "    def solve(idx_a, idx_b):\n",
    "        ret = 0\n",
    "        # Handle (-1, -1) as a entrypoint\n",
    "        a = -INF if idx_a == -1 else seq_a[idx_a]\n",
    "        b = -INF if idx_b == -1 else seq_b[idx_b]\n",
    "\n",
    "        # Last selected number\n",
    "        prev = max(a, b)\n",
    "\n",
    "        # (a+1...an, b)\n",
    "        for next_a in range(idx_a+1, len_a):\n",
    "            if seq_a[next_a] > prev:\n",
    "                ret = max(ret, 1 + solve(next_a, idx_b))\n",
    "\n",
    "        # (a, b+1...bn)\n",
    "        for next_b in range(idx_b+1, len_b):\n",
    "            if seq_b[next_b] > prev:\n",
    "                ret = max(ret, 1 + solve(idx_a, next_b))\n",
    "\n",
    "        return ret\n",
    "\n",
    "    return solve(-1, -1)\n",
    "\n",
    "\n",
    "c = int(input())\n",
    "for _ in range(c):\n",
    "    _ = input()\n",
    "    seq_a = list(map(int, input().split()))\n",
    "    seq_b = list(map(int, input().split()))\n",
    "    result = solution(seq_a, seq_b)\n",
    "    print(result)"
   ]
  },
  {
   "cell_type": "code",
   "execution_count": 4,
   "metadata": {
    "tags": []
   },
   "outputs": [
    {
     "output_type": "stream",
     "name": "stdout",
     "text": [
      "[0.00023890] 'solution([1, 2, 4], [3, 4, 7])' → 5\n",
      "Case 1 PASS\n",
      "\n",
      "[0.00012350] 'solution([1, 2, 3], [4, 5, 6])' → 6\n",
      "Case 2 PASS\n",
      "\n",
      "[0.00008845] 'solution([10, 20, 30, 1, 2], [10, 20, 30])' → 5\n",
      "Case 3 PASS\n",
      "\n",
      "[0.00012374] 'solution([1, 9, 4], [3, 4, 7])' → 5\n",
      "Case 4 PASS\n",
      "\n",
      "[0.00003600] 'solution([100], [100])' → 1\n",
      "Case 5 PASS\n",
      "\n",
      "[0.00010228] 'solution([2, 7, 7, 7, 1], [5, 9, 3, 6, 3])' → 4\n",
      "Case 6 PASS\n",
      "\n",
      "[0.00013733] 'solution([3, 4, 5, 7, 2], [6, 4, 8, 9, 1])' → 7\n",
      "Case 7 PASS\n",
      "\n",
      "[0.00003433] 'solution([4], [4, 7])' → 2\n",
      "Case 8 PASS\n",
      "\n",
      "[0.00002933] 'solution([1], [1])' → 1\n",
      "Case 9 PASS\n",
      "\n",
      "[0.00007057] 'solution([1, 1, 1], [2, 2, 2, 2, 2])' → 2\n",
      "Case 10 PASS\n",
      "\n",
      "[0.00003386] 'solution([-2147483648, -2147483648], [-2147483648, -2147483648, -2147483648])' → 1\n",
      "Case 11 PASS\n",
      "\n",
      "[0.08787727] 'solution([-1, -1, -1, -1, -1, -1, -1, -1, -1, -1, -1, -1, -1, -1, -1, -1, -1, -1, -1, -1, -1, -1, -1, -1, -1, -1, -1, -... → 2\n",
      "Case 12 PASS\n",
      "\n",
      "[0.26338005] 'solution([-100, -99, -98, -97, -96, -95, -94, -93, -92, -91, -90, -89, -88, -87, -86, -85, -84, -83, -82, -81, -80, -79... → 200\n",
      "Case 13 PASS\n",
      "\n",
      "\n",
      "All test(s) have passed\n"
     ]
    }
   ],
   "source": [
    "\"\"\"\n",
    "Testing\n",
    "\n",
    "\"\"\"\n",
    "import helpers as hlpr\n",
    "\n",
    "f = hlpr.clock(hlpr.timeout(seconds=10)(solution))\n",
    "test_cases = [\n",
    "    (([1, 2, 4], [3, 4, 7]),\n",
    "     5),\n",
    "    (([1, 2, 3], [4, 5, 6]),\n",
    "     6),\n",
    "    (([10, 20, 30, 1, 2], [10, 20, 30]),\n",
    "     5),\n",
    "    (([1, 9, 4], [3, 4, 7]),\n",
    "     5),\n",
    "    (([100], [100]),\n",
    "     1),\n",
    "    (([2, 7, 7, 7, 1], [5, 9, 3, 6, 3]),\n",
    "     4),\n",
    "    (([3, 4, 5, 7, 2], [6, 4, 8, 9, 1]),\n",
    "     7),\n",
    "    (([4], [4, 7]),\n",
    "     2),\n",
    "    (([1], [1]),\n",
    "     1),\n",
    "    (([1, 1, 1], [2, 2, 2, 2, 2]),\n",
    "     2),\n",
    "    (([-2147483648, -2147483648], [-2147483648, -2147483648, -2147483648]),\n",
    "     1),\n",
    "    (([-1]*100, [1]*100),\n",
    "     2),\n",
    "    (([i - 100 for i in range(100)], [j + 100 for j in range(100)]),\n",
    "     200),\n",
    "]\n",
    "\n",
    "passed, failed = [], []\n",
    "for idx, tc in enumerate(test_cases, start=1):\n",
    "    case, expected = tc\n",
    "    result = None\n",
    "    try:\n",
    "        result = f(*case)\n",
    "        assert result == expected, \\\n",
    "            'wants {} but got {}'.format(hlpr.truncate(expected, 20), hlpr.truncate(result, 20))  # noqa: E501\n",
    "    except Exception as err:\n",
    "        fmt = 'Case {} FAIL: {}'\n",
    "        print(fmt.format(idx, str(err)))\n",
    "        failed.append(idx)\n",
    "    else:\n",
    "        fmt = 'Case {} PASS'\n",
    "        print(fmt.format(idx))\n",
    "        passed.append(idx)\n",
    "\n",
    "    print()\n",
    "\n",
    "print()\n",
    "if len(passed) == len(test_cases):\n",
    "    print('All test(s) have passed')\n",
    "else:\n",
    "    fmt = '{} of {} test(s) failed: {}'\n",
    "    print(fmt.format(len(failed), len(test_cases), ', '.join(map(str, failed))))  # noqa: E501"
   ]
  },
  {
   "cell_type": "code",
   "execution_count": null,
   "metadata": {},
   "outputs": [],
   "source": [
    "!pip install matplotlib\n",
    "\"\"\"\n",
    "Performance analysis\n",
    "- x-axis: n\n",
    "- y-axis: O(f(n))\n",
    "\n",
    "\"\"\"\n",
    "import matplotlib as plt\n",
    "\n",
    "_"
   ]
  },
  {
   "cell_type": "code",
   "execution_count": null,
   "metadata": {},
   "outputs": [],
   "source": []
  }
 ],
 "metadata": {
  "kernelspec": {
   "name": "python3",
   "display_name": "Python 3.7.3 64-bit",
   "metadata": {
    "interpreter": {
     "hash": "31f2aee4e71d21fbe5cf8b01ff0e069b9275f58929596ceb00d14d90e3e16cd6"
    }
   }
  },
  "language_info": {
   "codemirror_mode": {
    "name": "ipython",
    "version": 3
   },
   "file_extension": ".py",
   "mimetype": "text/x-python",
   "name": "python",
   "nbconvert_exporter": "python",
   "pygments_lexer": "ipython3",
   "version": "3.7.3-final"
  }
 },
 "nbformat": 4,
 "nbformat_minor": 2
}