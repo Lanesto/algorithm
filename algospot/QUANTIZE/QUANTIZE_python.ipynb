{
 "cells": [
  {
   "cell_type": "code",
   "execution_count": 2,
   "metadata": {
    "scrolled": false
   },
   "outputs": [
    {
     "output_type": "stream",
     "name": "stdout",
     "text": [
      "/bin/bash: pip: command not found\n",
      "/bin/bash: pip: command not found\n",
      "2:15: E225 missing whitespace around operator\n",
      "6:1: E402 module level import not at top of file\n"
     ]
    }
   ],
   "source": [
    "# Enforces PEP-8 style guideline\n",
    "!pip install --upgrade pip\n",
    "!pip install flake8 pycodestyle_magic\n",
    "\n",
    "# Adds upper path to import common module\n",
    "import sys\n",
    "sys.path.append('../../')"
   ]
  },
  {
   "cell_type": "code",
   "execution_count": 1,
   "metadata": {},
   "outputs": [],
   "source": [
    "%load_ext pycodestyle_magic\n",
    "%pycodestyle_on"
   ]
  },
  {
   "cell_type": "code",
   "execution_count": 3,
   "metadata": {},
   "outputs": [],
   "source": [
    "\"\"\"\n",
    "Version 1:\n",
    "- used methods: DP\n",
    "\n",
    "\"\"\"\n",
    "from functools import lru_cache\n",
    "\n",
    "INF = 1234567890\n",
    "\n",
    "\n",
    "# Quantize given sequence into q numbers minimizes SSE(Sum of Squared Error)\n",
    "# then returns the SSE\n",
    "def solution(seq, q):\n",
    "    n = len(seq)\n",
    "    seq.sort()\n",
    "\n",
    "    # Initialize pSum, pSqSum\n",
    "    pSum = [0]*(n+1)\n",
    "    pSqSum = [0]*(n+1)\n",
    "    for i in range(n):\n",
    "        pSum[i+1] = seq[i] + pSum[i]\n",
    "        pSqSum[i+1] = (seq[i] ** 2) + pSqSum[i]\n",
    "\n",
    "    # Returns SSE of seq[a:b]\n",
    "    def sse(a, b):\n",
    "        s = pSum[b] - pSum[a]\n",
    "        ss = pSqSum[b] - pSqSum[a]\n",
    "        m = round(s / (b - a))\n",
    "        return ss - 2 * m * s + (b - a) * m * m\n",
    "\n",
    "    # Returns minimum SSE of seq[start:n]\n",
    "    @lru_cache(maxsize=n*q)\n",
    "    def solve(start, k):\n",
    "        # Consumed all values\n",
    "        if start == n:\n",
    "            return 0\n",
    "\n",
    "        # Made all q groups\n",
    "        if k == 0:\n",
    "            return INF\n",
    "\n",
    "        ret = INF\n",
    "        for size in range(1, n - start + 1):\n",
    "            ret = min(ret,\n",
    "                      sse(start, start + size) + solve(start + size, k - 1))\n",
    "\n",
    "        return ret\n",
    "\n",
    "    return solve(0, q)\n",
    "\n",
    "\n",
    "C = int(input())\n",
    "for _ in range(C):\n",
    "    _, S = list(map(int, input().split()))\n",
    "    seq = list(map(int, input().split()))\n",
    "    result = solution(seq, S)\n",
    "    print(result)"
   ]
  },
  {
   "cell_type": "code",
   "execution_count": 4,
   "metadata": {
    "tags": []
   },
   "outputs": [
    {
     "output_type": "stream",
     "name": "stdout",
     "text": [
      "[0.00019407] 'solution([3, 3, 3, 1, 2, 3, 2, 2, 2, 1], 3)' → 0\nCase 1 PASS\n\n[0.00022149] 'solution([1, 744, 755, 4, 897, 902, 890, 6, 777], 3)' → 651\nCase 2 PASS\n\n[0.01633811] 'solution([1, 1, 1, 1, 1, 1, 1, 1, 1, 1, 1, 1, 1, 1, 1, 1, 1, 1, 1, 1, 1, 1, 1, 1, 1, 1, 1, 1, 1, 1, 500, 500, 500, 500,... → 0\nCase 3 PASS\n\n[0.00033069] 'solution([1, 1, 1, 1, 1, 1, 1, 1, 1, 1, 1, 1, 1, 1, 1, 1, 1, 1, 1, 1, 1, 1, 1, 1, 1, 1, 1, 1, 1, 1, 1, 1, 1, 1, 1, 1, 1... → 0\nCase 4 PASS\n\n[0.05635500] 'solution([1, 2, 3, 4, 5, 6, 7, 8, 9, 10, 11, 12, 13, 14, 15, 16, 17, 18, 19, 20, 21, 22, 23, 24, 25, 26, 27, 28, 29, 30... → 850\nCase 5 PASS\n\n\nAll test(s) have passed\n"
     ]
    }
   ],
   "source": [
    "\"\"\"\n",
    "Testing\n",
    "\n",
    "\"\"\"\n",
    "import helpers as hlpr\n",
    "\n",
    "f = hlpr.clock(hlpr.timeout(seconds=10)(solution))\n",
    "test_cases = [\n",
    "    (([3, 3, 3, 1, 2, 3, 2, 2, 2, 1], 3),\n",
    "     0),\n",
    "    (([1, 744, 755, 4, 897, 902, 890, 6, 777], 3),\n",
    "     651),\n",
    "    (([*([1]*30), *([500]*40), *([1000]*30)], 3),\n",
    "     0),\n",
    "    (([1]*100, 1),\n",
    "     0),\n",
    "    (([i for i in range(1, 101)], 10),\n",
    "     850),\n",
    "]\n",
    "\n",
    "passed, failed = [], []\n",
    "for idx, tc in enumerate(test_cases, start=1):\n",
    "    case, expected = tc\n",
    "    result = None\n",
    "    try:\n",
    "        result = f(*case)\n",
    "        assert result == expected, \\\n",
    "            'wants {} but got {}'.format(hlpr.truncate(expected, 20), hlpr.truncate(result, 20))  # noqa: E501\n",
    "    except Exception as err:\n",
    "        fmt = 'Case {} FAIL: {}'\n",
    "        print(fmt.format(idx, str(err)))\n",
    "        failed.append(idx)\n",
    "    else:\n",
    "        fmt = 'Case {} PASS'\n",
    "        print(fmt.format(idx))\n",
    "        passed.append(idx)\n",
    "\n",
    "    print()\n",
    "\n",
    "print()\n",
    "if len(passed) == len(test_cases):\n",
    "    print('All test(s) have passed')\n",
    "else:\n",
    "    fmt = '{} of {} test(s) failed: {}'\n",
    "    print(fmt.format(len(failed), len(test_cases), ', '.join(map(str, failed))))  # noqa: E501"
   ]
  },
  {
   "cell_type": "code",
   "execution_count": null,
   "metadata": {},
   "outputs": [],
   "source": [
    "!pip install matplotlib\n",
    "\"\"\"\n",
    "Performance analysis\n",
    "- x-axis: n\n",
    "- y-axis: O(f(n))\n",
    "\n",
    "\"\"\"\n",
    "import matplotlib as plt\n",
    "\n",
    "_"
   ]
  },
  {
   "cell_type": "code",
   "execution_count": null,
   "metadata": {},
   "outputs": [],
   "source": []
  }
 ],
 "metadata": {
  "kernelspec": {
   "name": "python3",
   "display_name": "Python 3.7.3 64-bit",
   "metadata": {
    "interpreter": {
     "hash": "31f2aee4e71d21fbe5cf8b01ff0e069b9275f58929596ceb00d14d90e3e16cd6"
    }
   }
  },
  "language_info": {
   "codemirror_mode": {
    "name": "ipython",
    "version": 3
   },
   "file_extension": ".py",
   "mimetype": "text/x-python",
   "name": "python",
   "nbconvert_exporter": "python",
   "pygments_lexer": "ipython3",
   "version": "3.7.3-final"
  }
 },
 "nbformat": 4,
 "nbformat_minor": 2
}