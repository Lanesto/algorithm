{
 "cells": [
  {
   "cell_type": "code",
   "execution_count": 1,
   "metadata": {
    "scrolled": false
   },
   "outputs": [],
   "source": [
    "# Add path candidates to sys.path to import utility / helper modules\n",
    "import sys\n",
    "sys.path.append('/workspace')"
   ]
  },
  {
   "cell_type": "code",
   "execution_count": 2,
   "metadata": {},
   "outputs": [],
   "source": [
    "%load_ext pycodestyle_magic\n",
    "%pycodestyle_on"
   ]
  },
  {
   "cell_type": "code",
   "execution_count": 3,
   "metadata": {},
   "outputs": [],
   "source": [
    "\"\"\"\n",
    "Version 1: TIMEOUT\n",
    "- used methods: DP\n",
    "\n",
    "\"\"\"\n",
    "from functools import lru_cache\n",
    "\n",
    "# Use hard-coded precalculated data\n",
    "_all_blocks = {\n",
    "    3, 6, 12, 24, 33, 35, 66, 67, 70, 96, 97, 98, 132, 134, 140, 192, 194, 196,\n",
    "    264, 268, 280, 384, 388, 392, 528, 536, 768, 776, 784, 1056, 1120, 2112,\n",
    "    2144, 2240, 3072, 3104, 3136, 4224, 4288, 4480, 6144, 6208, 6272, 8448,\n",
    "    8576, 8960, 12288, 12416, 12544, 16896, 17152, 24576, 24832, 25088, 33792,\n",
    "    35840, 67584, 68608, 71680, 98304, 99328, 100352, 135168, 137216, 143360,\n",
    "    196608, 198656, 200704, 270336, 274432, 286720, 393216, 397312, 401408,\n",
    "    540672, 548864, 786432, 794624, 802816, 1081344, 1146880, 2162688, 2195456,\n",
    "    2293760, 3145728, 3178496, 3211264, 4325376, 4390912, 4587520, 6291456,\n",
    "    6356992, 6422528, 8650752, 8781824, 9175040, 12582912, 12713984, 12845056,\n",
    "    17301504, 17563648, 25165824, 25427968, 25690112}\n",
    "\n",
    "\n",
    "# Returns numeric expression for single cell (x, y)\n",
    "# for board\n",
    "def _cell(x, y):\n",
    "    return 1 << (5 * y + x)\n",
    "\n",
    "\n",
    "# Pre-calculate all possible combinations of place of blocks\n",
    "def _precalc():\n",
    "    # Use hard-coded cache if exists\n",
    "    if _all_blocks:\n",
    "        return\n",
    "\n",
    "    _add = _all_blocks.add\n",
    "\n",
    "    # 3-block\n",
    "    for y in range(4):\n",
    "        for x in range(4):\n",
    "            cells = [_cell(x + dx, y + dy)\n",
    "                     for dx in range(2)\n",
    "                     for dy in range(2)]\n",
    "            square = sum(cells)\n",
    "            for i in range(4):\n",
    "                _add(square - cells[i])  # ┐┘┌└\n",
    "\n",
    "    # 2-block\n",
    "    for a in range(5):\n",
    "        for b in range(4):\n",
    "            _add(_cell(a, b) + _cell(a, b + 1))  # │\n",
    "            _add(_cell(b, a) + _cell(b + 1, a))  # ─\n",
    "\n",
    "\n",
    "# Returns numeric expression of given 5*5 board\n",
    "def _flatten(board):\n",
    "    ret = 0\n",
    "    for y in range(5):\n",
    "        for x in range(5):\n",
    "            ret += board[y][x] * _cell(x, y)\n",
    "\n",
    "    return ret\n",
    "\n",
    "\n",
    "# Returns whether current turn player can win\n",
    "@lru_cache(maxsize=(1 << 25))\n",
    "def _solve(state):\n",
    "    for block in _all_blocks:\n",
    "        # If block can be placed\n",
    "        if state & block == 0:\n",
    "            # Opposite's loes = my win\n",
    "            if not _solve(state | block):\n",
    "                return True\n",
    "\n",
    "    # No possible winning case\n",
    "    return False\n",
    "\n",
    "\n",
    "# Solution for BLOCKGAME\n",
    "def solution(board):\n",
    "    # Preprocess\n",
    "    for y in range(5):\n",
    "        board[y] = list(board[y])\n",
    "        for x in range(5):\n",
    "            board[y][x] = 1 if board[y][x] == '#' else 0\n",
    "\n",
    "    board = _flatten(board)\n",
    "    if board == 0:\n",
    "        # Empty board\n",
    "        result = False\n",
    "    else:\n",
    "        result = _solve(board)\n",
    "\n",
    "    return 'WINNING' if result else 'LOSING'\n",
    "\n",
    "\n",
    "# Main I/O part\n",
    "def main(rl):\n",
    "    C = int(rl())\n",
    "    for _ in range(C):\n",
    "        board = []\n",
    "        for _ in range(5):\n",
    "            row = rl().rstrip()\n",
    "            board.append(row)\n",
    "\n",
    "        result = solution(board)\n",
    "        print(result)\n",
    "\n",
    "\n",
    "_precalc()\n",
    "\n",
    "# Additional codes to simulate I/O\n",
    "try:\n",
    "    import IPython\n",
    "except ImportError as _:\n",
    "    # Submit env\n",
    "    import sys\n",
    "    main(sys.stdin.readline)\n",
    "else:\n",
    "    from helpers import runner\n",
    "    # IPython env\n",
    "    runner.run(main)"
   ]
  },
  {
   "cell_type": "code",
   "execution_count": 4,
   "metadata": {},
   "outputs": [
    {
     "output_type": "execute_result",
     "data": {
      "text/plain": [
       "'\\nVersion 2:\\n- used methods: None\\n\\n'"
      ]
     },
     "metadata": {},
     "execution_count": 4
    }
   ],
   "source": [
    "\"\"\"\n",
    "Version 2:\n",
    "- used methods: None\n",
    "\n",
    "\"\"\"\n",
    "# See BLOCKGAME_python.py (Separate file due to size)"
   ]
  },
  {
   "cell_type": "code",
   "execution_count": 5,
   "metadata": {
    "tags": []
   },
   "outputs": [
    {
     "output_type": "stream",
     "name": "stdout",
     "text": [
      "[0.00262290] solution(['.....', '.##..', '##..#', '#.###', '..) → 'WINNING'\nCase 1 PASS\n\n[0.00003610] solution(['.....', '.....', '.....', '.....', '..) → 'LOSING'\nCase 2 PASS\n\n         30 function calls in 0.000 seconds\n\n   Ordered by: standard name\n\n   ncalls  tottime  percall  cumtime  percall filename:lineno(function)\n       25    0.000    0.000    0.000    0.000 <ipython-input-3-c2291b5e92f8>:24(_cell)\n        1    0.000    0.000    0.000    0.000 <ipython-input-3-c2291b5e92f8>:54(_flatten)\n        1    0.000    0.000    0.000    0.000 <ipython-input-3-c2291b5e92f8>:78(solution)\n        1    0.000    0.000    0.000    0.000 <string>:1(<module>)\n        1    0.000    0.000    0.000    0.000 {built-in method builtins.exec}\n        1    0.000    0.000    0.000    0.000 {method 'disable' of '_lsprof.Profiler' objects}\n\n\n\n[0.00010680] solution(['#..##', '##.##', '##.##', '#...#', '##) → 'WINNING'\nCase 3 PASS\n\n\nAll 3 test(s) have passed\n"
     ]
    }
   ],
   "source": [
    "\"\"\"\n",
    "Testing\n",
    "\n",
    "\"\"\"\n",
    "from helpers import testing\n",
    "\n",
    "_solve.cache_clear()\n",
    "\n",
    "\n",
    "test_cases = [\n",
    "    {\n",
    "        'input': [['.....', '.##..', '##..#', '#.###', '..#..']],\n",
    "        'expected': 'WINNING',\n",
    "    },\n",
    "    {\n",
    "        'input': [['.....', '.....', '.....', '.....', '.....']],\n",
    "        'expected': 'LOSING',\n",
    "        'timeout': 60,\n",
    "        'verbose': True,\n",
    "    },\n",
    "    {\n",
    "        'input': [['#..##', '##.##', '##.##', '#...#', '##.##']],\n",
    "        'expected': 'WINNING',\n",
    "    },\n",
    "]\n",
    "\n",
    "testing.run(solution, test_cases)"
   ]
  },
  {
   "cell_type": "code",
   "execution_count": null,
   "metadata": {},
   "outputs": [],
   "source": []
  }
 ],
 "metadata": {
  "kernelspec": {
   "name": "python3",
   "display_name": "Python 3.7.3 64-bit",
   "metadata": {
    "interpreter": {
     "hash": "31f2aee4e71d21fbe5cf8b01ff0e069b9275f58929596ceb00d14d90e3e16cd6"
    }
   }
  },
  "language_info": {
   "codemirror_mode": {
    "name": "ipython",
    "version": 3
   },
   "file_extension": ".py",
   "mimetype": "text/x-python",
   "name": "python",
   "nbconvert_exporter": "python",
   "pygments_lexer": "ipython3",
   "version": "3.7.3-final"
  }
 },
 "nbformat": 4,
 "nbformat_minor": 2
}