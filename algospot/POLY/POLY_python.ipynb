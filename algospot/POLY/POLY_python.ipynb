{
 "cells": [
  {
   "cell_type": "code",
   "execution_count": 1,
   "metadata": {
    "scrolled": false
   },
   "outputs": [
    {
     "output_type": "stream",
     "name": "stdout",
     "text": [
      "/bin/bash: pip: command not found\n",
      "/bin/bash: pip: command not found\n"
     ]
    }
   ],
   "source": [
    "# Enforces PEP-8 style guideline\n",
    "!pip install --upgrade pip\n",
    "!pip install flake8 pycodestyle_magic\n",
    "\n",
    "# Adds upper path to import common module\n",
    "import sys\n",
    "sys.path.append('../../')"
   ]
  },
  {
   "cell_type": "code",
   "execution_count": 2,
   "metadata": {},
   "outputs": [],
   "source": [
    "%load_ext pycodestyle_magic\n",
    "%pycodestyle_on"
   ]
  },
  {
   "cell_type": "code",
   "execution_count": 3,
   "metadata": {},
   "outputs": [],
   "source": [
    "\"\"\"\n",
    "Version 1:\n",
    "- used methods: DP\n",
    "\n",
    "\"\"\"\n",
    "from functools import lru_cache\n",
    "\n",
    "\n",
    "# Returns the number of cases making vertically monotonous polyominoes\n",
    "# place :first blocks at first line and remaining blocks on next lines\n",
    "@lru_cache(maxsize=100*100)\n",
    "def poly(k, first):\n",
    "    # Base condition\n",
    "    if k == 1:\n",
    "        return 1\n",
    "\n",
    "    # Use all blocks to first line\n",
    "    if k == first:\n",
    "        return 1\n",
    "\n",
    "    # For adjcent block with size n and m,\n",
    "    # number of cases positioning two blocks is: n + m - 1\n",
    "    return sum(\n",
    "        (first + second - 1) * poly(k - first, second)\n",
    "        for second in range(1, k - first + 1)\n",
    "    )\n",
    "\n",
    "\n",
    "# Wrapper for poly()\n",
    "def solution(n):\n",
    "    return sum(poly(n, first) for first in range(1, n + 1)) % 10000000\n",
    "\n",
    "\n",
    "C = int(input())\n",
    "for _ in range(C):\n",
    "    n = int(input())\n",
    "    result = solution(n)\n",
    "    print(result)"
   ]
  },
  {
   "cell_type": "code",
   "execution_count": 4,
   "metadata": {
    "tags": []
   },
   "outputs": [
    {
     "output_type": "stream",
     "name": "stdout",
     "text": [
      "[0.00005913] 'solution(1)' → 1\nCase 1 PASS\n\n[0.00006533] 'solution(2)' → 2\nCase 2 PASS\n\n[0.00012994] 'solution(3)' → 6\nCase 3 PASS\n\n[0.00008726] 'solution(4)' → 19\nCase 4 PASS\n\n[0.04847932] 'solution(92)' → 4841817\nCase 5 PASS\n\n[0.01294565] 'solution(100)' → 6803331\nCase 6 PASS\n\n\nAll test(s) have passed\n"
     ]
    }
   ],
   "source": [
    "\"\"\"\n",
    "Testing\n",
    "\n",
    "\"\"\"\n",
    "import helpers as hlpr\n",
    "\n",
    "f = hlpr.clock(hlpr.timeout(seconds=10)(solution))\n",
    "test_cases = [\n",
    "    ((1, ),\n",
    "     1),\n",
    "    ((2, ),\n",
    "     2),\n",
    "    ((3, ),\n",
    "     6),\n",
    "    ((4, ),\n",
    "     19),\n",
    "    ((92, ),\n",
    "     4841817),\n",
    "    ((100, ),\n",
    "     6803331),\n",
    "]\n",
    "\n",
    "passed, failed = [], []\n",
    "for idx, tc in enumerate(test_cases, start=1):\n",
    "    case, expected = tc\n",
    "    result = None\n",
    "    try:\n",
    "        result = f(*case)\n",
    "        assert result == expected, \\\n",
    "            'wants {} but got {}'.format(hlpr.truncate(expected, 20), hlpr.truncate(result, 20))  # noqa: E501\n",
    "    except Exception as err:\n",
    "        fmt = 'Case {} FAIL: {}'\n",
    "        print(fmt.format(idx, str(err)))\n",
    "        failed.append(idx)\n",
    "    else:\n",
    "        fmt = 'Case {} PASS'\n",
    "        print(fmt.format(idx))\n",
    "        passed.append(idx)\n",
    "\n",
    "    print()\n",
    "\n",
    "print()\n",
    "if len(passed) == len(test_cases):\n",
    "    print('All test(s) have passed')\n",
    "else:\n",
    "    fmt = '{} of {} test(s) failed: {}'\n",
    "    print(fmt.format(len(failed), len(test_cases), ', '.join(map(str, failed))))  # noqa: E501"
   ]
  },
  {
   "cell_type": "code",
   "execution_count": null,
   "metadata": {},
   "outputs": [],
   "source": [
    "!pip install matplotlib\n",
    "\"\"\"\n",
    "Performance analysis\n",
    "- x-axis: n\n",
    "- y-axis: O(f(n))\n",
    "\n",
    "\"\"\"\n",
    "import matplotlib as plt\n",
    "\n",
    "_"
   ]
  }
 ],
 "metadata": {
  "kernelspec": {
   "name": "python3",
   "display_name": "Python 3.7.3 64-bit",
   "metadata": {
    "interpreter": {
     "hash": "31f2aee4e71d21fbe5cf8b01ff0e069b9275f58929596ceb00d14d90e3e16cd6"
    }
   }
  },
  "language_info": {
   "codemirror_mode": {
    "name": "ipython",
    "version": 3
   },
   "file_extension": ".py",
   "mimetype": "text/x-python",
   "name": "python",
   "nbconvert_exporter": "python",
   "pygments_lexer": "ipython3",
   "version": "3.7.3-final"
  }
 },
 "nbformat": 4,
 "nbformat_minor": 2
}