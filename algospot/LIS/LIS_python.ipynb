{
 "cells": [
  {
   "cell_type": "code",
   "execution_count": 1,
   "metadata": {
    "scrolled": false
   },
   "outputs": [
    {
     "output_type": "stream",
     "name": "stdout",
     "text": [
      "/bin/bash: pip: command not found\n",
      "/bin/bash: pip: command not found\n"
     ]
    }
   ],
   "source": [
    "# Enforces PEP-8 style guideline\n",
    "!pip install --upgrade pip\n",
    "!pip install flake8 pycodestyle_magic\n",
    "\n",
    "# Adds upper path to import common module\n",
    "import sys\n",
    "sys.path.append('../../')"
   ]
  },
  {
   "cell_type": "code",
   "execution_count": 2,
   "metadata": {},
   "outputs": [],
   "source": [
    "%load_ext pycodestyle_magic\n",
    "%pycodestyle_on"
   ]
  },
  {
   "cell_type": "code",
   "execution_count": null,
   "metadata": {},
   "outputs": [],
   "source": [
    "\"\"\"\n",
    "Version 1: TIMEOUT\n",
    "- used methods: DP\n",
    "\n",
    "\"\"\"\n",
    "from functools import lru_cache\n",
    "\n",
    "\n",
    "# Return the length of maximum path\n",
    "def solution(seq):\n",
    "    n = len(seq)\n",
    "\n",
    "    @lru_cache(maxsize=500)\n",
    "    def solve(i):\n",
    "        ret = 1\n",
    "        for j in range(i+1, n):\n",
    "            if i == -1 or seq[j] > seq[i]:\n",
    "                ret = max(ret, 1 + solve(j))\n",
    "\n",
    "        return ret\n",
    "\n",
    "    return solve(-1) - 1\n",
    "\n",
    "\n",
    "C = int(input())\n",
    "for _ in range(C):\n",
    "    N = int(input())\n",
    "    seq = list(map(int, input().split()))\n",
    "    result = solution(seq)\n",
    "    print(result)"
   ]
  },
  {
   "cell_type": "code",
   "execution_count": 3,
   "metadata": {},
   "outputs": [],
   "source": [
    "\"\"\"\n",
    "Version 2:\n",
    "- used methods: Binary Search\n",
    "\n",
    "\"\"\"\n",
    "from bisect import bisect_left\n",
    "\n",
    "\n",
    "# Return the length of maximum path\n",
    "def solution(seq):\n",
    "    c = []\n",
    "    for v in seq:\n",
    "        i = bisect_left(c, v)\n",
    "        if i == len(c):\n",
    "            # New biggest number: append to LIS\n",
    "            c.append(v)\n",
    "        else:\n",
    "            # Update existing value\n",
    "            c[i] = v\n",
    "\n",
    "    return len(c)\n",
    "\n",
    "\n",
    "C = int(input())\n",
    "for _ in range(C):\n",
    "    N = int(input())\n",
    "    seq = list(map(int, input().split()))\n",
    "    result = solution(seq)\n",
    "    print(result)"
   ]
  },
  {
   "cell_type": "code",
   "execution_count": 4,
   "metadata": {
    "tags": []
   },
   "outputs": [
    {
     "output_type": "stream",
     "name": "stdout",
     "text": [
      "[0.00005817] 'solution([1, 2, 3, 4])' → 4\nCase 1 PASS\n\n[0.00007629] 'solution([5, 4, 3, 2, 1, 6, 7, 8])' → 4\nCase 2 PASS\n\n[0.00009131] 'solution([5, 6, 7, 8, 1, 2, 3, 4])' → 4\nCase 3 PASS\n\n[0.00005913] 'solution([1, 1, 1])' → 1\nCase 4 PASS\n\n[0.00007820] 'solution([9, 1, 2, 3, 4])' → 4\nCase 5 PASS\n\n[0.00011539] 'solution([2, 5, 6, 1, 2])' → 3\nCase 6 PASS\n\n[0.00010371] 'solution([9, 1, 3, 7, 5, 6, 20])' → 5\nCase 7 PASS\n\n[0.00002360] 'solution([1, 2, 5, 8, 10, 2, 5, 4, 3, 50])' → 6\nCase 8 PASS\n\n[0.00002122] 'solution([1, 2, 5, 3, 4, 5])' → 5\nCase 9 PASS\n\n[0.00022459] 'solution([1, 2, 3, 4, 5, 6, 7, 8, 9, 10, 11, 12, 13, 14, 15, 16, 17, 18, 19, 20, 21, 22, 23, 24, 25, 26, 27, 28, 29, 30... → 500\nCase 10 PASS\n\n\nAll test(s) have passed\n"
     ]
    }
   ],
   "source": [
    "\"\"\"\n",
    "Testing\n",
    "\n",
    "\"\"\"\n",
    "import helpers as hlpr\n",
    "\n",
    "f = hlpr.clock(hlpr.timeout(seconds=10)(solution))\n",
    "test_cases = [\n",
    "    (([1, 2, 3, 4], ),\n",
    "     4),\n",
    "    (([5, 4, 3, 2, 1, 6, 7, 8], ),\n",
    "     4),\n",
    "    (([5, 6, 7, 8, 1, 2, 3, 4], ),\n",
    "     4),\n",
    "    (([1, 1, 1], ),\n",
    "     1),\n",
    "    (([9, 1, 2, 3, 4], ),\n",
    "     4),\n",
    "    (([2, 5, 6, 1, 2], ),\n",
    "     3),\n",
    "    (([9, 1, 3, 7, 5, 6, 20], ),\n",
    "     5),\n",
    "    (([1, 2, 5, 8, 10, 2, 5, 4, 3, 50], ),\n",
    "     6),\n",
    "    (([1, 2, 5, 3, 4, 5], ),\n",
    "     5),\n",
    "    (([i for i in range(1, 501)], ),\n",
    "     500),\n",
    "]\n",
    "\n",
    "passed, failed = [], []\n",
    "for idx, tc in enumerate(test_cases, start=1):\n",
    "    case, expected = tc\n",
    "    result = None\n",
    "    try:\n",
    "        result = f(*case)\n",
    "        assert result == expected, \\\n",
    "            'wants {} but got {}'.format(hlpr.truncate(expected, 20), hlpr.truncate(result, 20))  # noqa: E501\n",
    "    except Exception as err:\n",
    "        fmt = 'Case {} FAIL: {}'\n",
    "        print(fmt.format(idx, str(err)))\n",
    "        failed.append(idx)\n",
    "    else:\n",
    "        fmt = 'Case {} PASS'\n",
    "        print(fmt.format(idx))\n",
    "        passed.append(idx)\n",
    "\n",
    "    print()\n",
    "\n",
    "print()\n",
    "if len(passed) == len(test_cases):\n",
    "    print('All test(s) have passed')\n",
    "else:\n",
    "    fmt = '{} of {} test(s) failed: {}'\n",
    "    print(fmt.format(len(failed), len(test_cases), ', '.join(map(str, failed))))  # noqa: E501"
   ]
  },
  {
   "cell_type": "code",
   "execution_count": null,
   "metadata": {},
   "outputs": [],
   "source": [
    "!pip install matplotlib\n",
    "\"\"\"\n",
    "Performance analysis\n",
    "- x-axis: n\n",
    "- y-axis: O(f(n))\n",
    "\n",
    "\"\"\"\n",
    "import matplotlib as plt\n",
    "\n",
    "_"
   ]
  },
  {
   "cell_type": "code",
   "execution_count": null,
   "metadata": {},
   "outputs": [],
   "source": []
  }
 ],
 "metadata": {
  "kernelspec": {
   "name": "python3",
   "display_name": "Python 3.7.3 64-bit",
   "metadata": {
    "interpreter": {
     "hash": "31f2aee4e71d21fbe5cf8b01ff0e069b9275f58929596ceb00d14d90e3e16cd6"
    }
   }
  },
  "language_info": {
   "codemirror_mode": {
    "name": "ipython",
    "version": 3
   },
   "file_extension": ".py",
   "mimetype": "text/x-python",
   "name": "python",
   "nbconvert_exporter": "python",
   "pygments_lexer": "ipython3",
   "version": "3.7.3-final"
  }
 },
 "nbformat": 4,
 "nbformat_minor": 2
}