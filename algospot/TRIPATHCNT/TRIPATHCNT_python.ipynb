{
 "cells": [
  {
   "cell_type": "code",
   "execution_count": 1,
   "metadata": {
    "scrolled": false
   },
   "outputs": [
    {
     "output_type": "stream",
     "name": "stdout",
     "text": [
      "/bin/bash: pip: command not found\n",
      "/bin/bash: pip: command not found\n"
     ]
    }
   ],
   "source": [
    "# Enforces PEP-8 style guideline\n",
    "!pip install --upgrade pip\n",
    "!pip install flake8 pycodestyle_magic\n",
    "\n",
    "# Adds upper path to import common module\n",
    "import sys\n",
    "sys.path.append('../../')"
   ]
  },
  {
   "cell_type": "code",
   "execution_count": 2,
   "metadata": {},
   "outputs": [],
   "source": [
    "%load_ext pycodestyle_magic\n",
    "%pycodestyle_on"
   ]
  },
  {
   "cell_type": "code",
   "execution_count": 3,
   "metadata": {},
   "outputs": [],
   "source": [
    "\"\"\"\n",
    "Version 1:\n",
    "- used methods: DP\n",
    "\n",
    "\"\"\"\n",
    "from functools import lru_cache\n",
    "\n",
    "\n",
    "# Returns number of maximum pathes\n",
    "def solution(triangle):\n",
    "    n = len(triangle)\n",
    "\n",
    "    # Returns length of maximum path\n",
    "    @lru_cache(maxsize=n*n//2)\n",
    "    def tripath(x, y):\n",
    "        if y == n:\n",
    "            return 0\n",
    "\n",
    "        cell = triangle[y][x]\n",
    "        return max(cell + tripath(x, y + 1), cell + tripath(x + 1, y + 1))\n",
    "\n",
    "    # Returns count of maximum path\n",
    "    @lru_cache(maxsize=n*n//2)\n",
    "    def solve(x, y):\n",
    "        if y == (n-1):\n",
    "            return 1\n",
    "\n",
    "        following = tripath(x, y) - triangle[y][x]\n",
    "        ret = 0\n",
    "        if following == tripath(x, y + 1):\n",
    "            ret += solve(x, y + 1)\n",
    "        if following == tripath(x + 1, y + 1):\n",
    "            ret += solve(x + 1, y + 1)\n",
    "\n",
    "        return ret\n",
    "\n",
    "    return solve(0, 0)\n",
    "\n",
    "\n",
    "C = int(input())\n",
    "for _ in range(C):\n",
    "    n = int(input())\n",
    "    triangle = []\n",
    "    for _ in range(n):\n",
    "        row = list(map(int, input().split()))\n",
    "        triangle.append(row)\n",
    "\n",
    "    result = solution(triangle)\n",
    "    print(result)"
   ]
  },
  {
   "cell_type": "code",
   "execution_count": 4,
   "metadata": {
    "tags": []
   },
   "outputs": [
    {
     "output_type": "stream",
     "name": "stdout",
     "text": [
      "[0.00007701] 'solution([[1], [1, 1], [1, 1, 1], [1, 1, 1, 1]])' → 8\nCase 1 PASS\n\n[0.00013709] 'solution([[9], [5, 7], [1, 3, 2], [3, 5, 5, 6]])' → 3\nCase 2 PASS\n\n[0.00016952] 'solution([[2], [4, 8], [8, 16, 32], [16, 32, 64, 128], [32, 64, 128, 256, 512], [64, 128, 256, 512, 1024, 2048], [128, ... → 1\nCase 3 PASS\n\n[0.00044870] 'solution([[2], [4, 8], [8, 16, 32], [16, 32, 64, 128], [32, 64, 128, 256, 512], [64, 128, 256, 512, 1024, 2048], [128, ... → 1\nCase 4 PASS\n\n[0.00132489] 'solution([[2], [4, 8], [8, 16, 32], [16, 32, 64, 128], [32, 64, 128, 256, 512], [64, 128, 256, 512, 1024, 2048], [128, ... → 1\nCase 5 PASS\n\n[0.00622058] 'solution([[2], [4, 8], [8, 16, 32], [16, 32, 64, 128], [32, 64, 128, 256, 512], [64, 128, 256, 512, 1024, 2048], [128, ... → 1\nCase 6 PASS\n\n[0.00019026] 'solution([[1], [1, 1], [1, 1, 1], [1, 1, 1, 1], [1, 1, 1, 1, 1], [1, 1, 1, 1, 1, 1], [1, 1, 1, 1, 1, 1, 1], [1, 1, 1, 1... → 512\nCase 7 PASS\n\n[0.00091672] 'solution([[1], [1, 1], [1, 1, 1], [1, 1, 1, 1], [1, 1, 1, 1, 1], [1, 1, 1, 1, 1, 1], [1, 1, 1, 1, 1, 1, 1], [1, 1, 1, 1... → 16777216\nCase 8 PASS\n\n[0.00354290] 'solution([[1], [1, 1], [1, 1, 1], [1, 1, 1, 1], [1, 1, 1, 1, 1], [1, 1, 1, 1, 1, 1], [1, 1, 1, 1, 1, 1, 1], [1, 1, 1, 1... → 562949953421312\nCase 9 PASS\n\n[0.01611209] 'solution([[1], [1, 1], [1, 1, 1], [1, 1, 1, 1], [1, 1, 1, 1, 1], [1, 1, 1, 1, 1, 1], [1, 1, 1, 1, 1, 1, 1], [1, 1, 1, 1... → 633825300114114700748351602688\nCase 10 PASS\n\n\nAll test(s) have passed\n"
     ]
    }
   ],
   "source": [
    "\"\"\"\n",
    "Testing\n",
    "\n",
    "\"\"\"\n",
    "import helpers as hlpr\n",
    "\n",
    "f = hlpr.clock(hlpr.timeout(seconds=10)(solution))\n",
    "test_cases = [\n",
    "    (([[1],\n",
    "       [1, 1],\n",
    "       [1, 1, 1],\n",
    "       [1, 1, 1, 1]], ),\n",
    "     8),\n",
    "    (([[9],\n",
    "       [5, 7],\n",
    "       [1, 3, 2],\n",
    "       [3, 5, 5, 6]], ),\n",
    "     3),\n",
    "    (([[1 << (i + j) for j in range(i)] for i in range(1, 11)], ),\n",
    "     1),\n",
    "    (([[1 << (i + j) for j in range(i)] for i in range(1, 26)], ),\n",
    "     1),\n",
    "    (([[1 << (i + j) for j in range(i)] for i in range(1, 51)], ),\n",
    "     1),\n",
    "    (([[1 << (i + j) for j in range(i)] for i in range(1, 101)], ),\n",
    "     1),\n",
    "    (([[1]*i for i in range(1, 11)], ),\n",
    "     2**9),\n",
    "    (([[1]*i for i in range(1, 26)], ),\n",
    "     2**24),\n",
    "    (([[1]*i for i in range(1, 51)], ),\n",
    "     2**49),\n",
    "    (([[1]*i for i in range(1, 101)], ),\n",
    "     2**99),\n",
    "]\n",
    "\n",
    "passed, failed = [], []\n",
    "for idx, tc in enumerate(test_cases, start=1):\n",
    "    case, expected = tc\n",
    "    result = None\n",
    "    try:\n",
    "        result = f(*case)\n",
    "        assert result == expected, \\\n",
    "            'wants {} but got {}'.format(hlpr.truncate(expected, 20), hlpr.truncate(result, 20))  # noqa: E501\n",
    "    except Exception as err:\n",
    "        fmt = 'Case {} FAIL: {}'\n",
    "        print(fmt.format(idx, str(err)))\n",
    "        failed.append(idx)\n",
    "    else:\n",
    "        fmt = 'Case {} PASS'\n",
    "        print(fmt.format(idx))\n",
    "        passed.append(idx)\n",
    "\n",
    "    print()\n",
    "\n",
    "print()\n",
    "if len(passed) == len(test_cases):\n",
    "    print('All test(s) have passed')\n",
    "else:\n",
    "    fmt = '{} of {} test(s) failed: {}'\n",
    "    print(fmt.format(len(failed), len(test_cases), ', '.join(map(str, failed))))  # noqa: E501"
   ]
  },
  {
   "cell_type": "code",
   "execution_count": null,
   "metadata": {},
   "outputs": [],
   "source": [
    "!pip install matplotlib\n",
    "\"\"\"\n",
    "Performance analysis\n",
    "- x-axis: n\n",
    "- y-axis: O(f(n))\n",
    "\n",
    "\"\"\"\n",
    "import matplotlib as plt\n",
    "\n",
    "_"
   ]
  },
  {
   "cell_type": "code",
   "execution_count": null,
   "metadata": {},
   "outputs": [],
   "source": []
  }
 ],
 "metadata": {
  "kernelspec": {
   "name": "python3",
   "display_name": "Python 3.7.3 64-bit",
   "metadata": {
    "interpreter": {
     "hash": "31f2aee4e71d21fbe5cf8b01ff0e069b9275f58929596ceb00d14d90e3e16cd6"
    }
   }
  },
  "language_info": {
   "codemirror_mode": {
    "name": "ipython",
    "version": 3
   },
   "file_extension": ".py",
   "mimetype": "text/x-python",
   "name": "python",
   "nbconvert_exporter": "python",
   "pygments_lexer": "ipython3",
   "version": "3.7.3-final"
  }
 },
 "nbformat": 4,
 "nbformat_minor": 2
}