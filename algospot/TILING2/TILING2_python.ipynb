{
 "cells": [
  {
   "cell_type": "code",
   "execution_count": 7,
   "metadata": {
    "scrolled": false
   },
   "outputs": [
    {
     "output_type": "stream",
     "name": "stdout",
     "text": [
      "/bin/bash: pip: command not found\n",
      "/bin/bash: pip: command not found\n"
     ]
    }
   ],
   "source": [
    "# Enforces PEP-8 style guideline\n",
    "!pip install --upgrade pip\n",
    "!pip install flake8 pycodestyle_magic\n",
    "\n",
    "# Adds upper path to import common module\n",
    "import sys\n",
    "sys.path.append('../../')"
   ]
  },
  {
   "cell_type": "code",
   "execution_count": 8,
   "metadata": {},
   "outputs": [],
   "source": [
    "%load_ext pycodestyle_magic\n",
    "%pycodestyle_on"
   ]
  },
  {
   "cell_type": "code",
   "execution_count": 15,
   "metadata": {},
   "outputs": [],
   "source": [
    "\"\"\"\n",
    "Version 1:\n",
    "- used methods: DP\n",
    "\n",
    "\"\"\"\n",
    "from functools import lru_cache\n",
    "\n",
    "\n",
    "# Returns number of cases covering sqaure of 2×n with 2×1/1×2 tiles\n",
    "def solution(n):\n",
    "\n",
    "    @lru_cache(maxsize=n)\n",
    "    def solve(k):\n",
    "        if k < 0:\n",
    "            return 0\n",
    "        elif k == 0:\n",
    "            return 1\n",
    "\n",
    "        return (solve(k-1) + solve(k-2)) % 1000000007\n",
    "\n",
    "    return solve(n)\n",
    "\n",
    "\n",
    "C = int(input())\n",
    "for _ in range(C):\n",
    "    n = int(input())\n",
    "    result = solution(n)\n",
    "    print(result)"
   ]
  },
  {
   "cell_type": "code",
   "execution_count": 13,
   "metadata": {
    "tags": []
   },
   "outputs": [
    {
     "output_type": "stream",
     "name": "stdout",
     "text": [
      "[0.00006247] 'solution(1)' → 1\nCase 1 PASS\n\n[0.00005460] 'solution(5)' → 8\nCase 2 PASS\n\n[0.00016999] 'solution(100)' → 782204094\nCase 3 PASS\n\n\nAll test(s) have passed\n"
     ]
    }
   ],
   "source": [
    "\"\"\"\n",
    "Testing\n",
    "\n",
    "\"\"\"\n",
    "import helpers as hlpr\n",
    "\n",
    "f = hlpr.clock(hlpr.timeout(seconds=10)(solution))\n",
    "test_cases = [\n",
    "    ((1, ),\n",
    "     1),\n",
    "    ((5, ),\n",
    "     8),\n",
    "    ((100, ),\n",
    "     782204094),\n",
    "]\n",
    "\n",
    "passed, failed = [], []\n",
    "for idx, tc in enumerate(test_cases, start=1):\n",
    "    case, expected = tc\n",
    "    result = None\n",
    "    try:\n",
    "        result = f(*case)\n",
    "        assert result == expected, \\\n",
    "            'wants {} but got {}'.format(hlpr.truncate(expected, 20), hlpr.truncate(result, 20))  # noqa: E501\n",
    "    except Exception as err:\n",
    "        fmt = 'Case {} FAIL: {}'\n",
    "        print(fmt.format(idx, str(err)))\n",
    "        failed.append(idx)\n",
    "    else:\n",
    "        fmt = 'Case {} PASS'\n",
    "        print(fmt.format(idx))\n",
    "        passed.append(idx)\n",
    "\n",
    "    print()\n",
    "\n",
    "print()\n",
    "if len(passed) == len(test_cases):\n",
    "    print('All test(s) have passed')\n",
    "else:\n",
    "    fmt = '{} of {} test(s) failed: {}'\n",
    "    print(fmt.format(len(failed), len(test_cases), ', '.join(map(str, failed))))  # noqa: E501"
   ]
  },
  {
   "cell_type": "code",
   "execution_count": null,
   "metadata": {},
   "outputs": [],
   "source": [
    "!pip install matplotlib\n",
    "\"\"\"\n",
    "Performance analysis\n",
    "- x-axis: n\n",
    "- y-axis: O(f(n))\n",
    "\n",
    "\"\"\"\n",
    "import matplotlib as plt\n",
    "\n",
    "_"
   ]
  }
 ],
 "metadata": {
  "kernelspec": {
   "name": "python3",
   "display_name": "Python 3.7.3 64-bit",
   "metadata": {
    "interpreter": {
     "hash": "31f2aee4e71d21fbe5cf8b01ff0e069b9275f58929596ceb00d14d90e3e16cd6"
    }
   }
  },
  "language_info": {
   "codemirror_mode": {
    "name": "ipython",
    "version": 3
   },
   "file_extension": ".py",
   "mimetype": "text/x-python",
   "name": "python",
   "nbconvert_exporter": "python",
   "pygments_lexer": "ipython3",
   "version": "3.7.3-final"
  }
 },
 "nbformat": 4,
 "nbformat_minor": 2
}