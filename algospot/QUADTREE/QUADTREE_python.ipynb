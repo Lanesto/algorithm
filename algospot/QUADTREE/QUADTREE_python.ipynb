{
 "cells": [
  {
   "cell_type": "code",
   "execution_count": 1,
   "metadata": {
    "scrolled": false
   },
   "outputs": [
    {
     "name": "stdout",
     "output_type": "stream",
     "text": [
      "Requirement already up-to-date: pip in /opt/conda/lib/python3.8/site-packages (20.2.4)\n",
      "Requirement already satisfied: flake8 in /opt/conda/lib/python3.8/site-packages (3.8.4)\n",
      "Requirement already satisfied: pycodestyle_magic in /opt/conda/lib/python3.8/site-packages (0.5)\n",
      "Requirement already satisfied: mccabe<0.7.0,>=0.6.0 in /opt/conda/lib/python3.8/site-packages (from flake8) (0.6.1)\n",
      "Requirement already satisfied: pyflakes<2.3.0,>=2.2.0 in /opt/conda/lib/python3.8/site-packages (from flake8) (2.2.0)\n",
      "Requirement already satisfied: pycodestyle<2.7.0,>=2.6.0a1 in /opt/conda/lib/python3.8/site-packages (from flake8) (2.6.0)\n"
     ]
    }
   ],
   "source": [
    "# Enforces PEP-8 style guideline\n",
    "!pip install --upgrade pip\n",
    "!pip install flake8 pycodestyle_magic\n",
    "\n",
    "# Adds upper path to import common module\n",
    "import sys\n",
    "sys.path.append(\"../../\")"
   ]
  },
  {
   "cell_type": "code",
   "execution_count": 2,
   "metadata": {},
   "outputs": [],
   "source": [
    "%load_ext pycodestyle_magic\n",
    "%pycodestyle_on"
   ]
  },
  {
   "cell_type": "code",
   "execution_count": 3,
   "metadata": {},
   "outputs": [
    {
     "name": "stdout",
     "output_type": "stream",
     "text": [
      "0\n"
     ]
    }
   ],
   "source": [
    "\"\"\"\n",
    "Version 1\n",
    "- used methods: divide-and-conquer\n",
    "\n",
    "ul  │  ur     dl  │  dr\n",
    "  1 │ 2         3 │ 4\n",
    "──┼──  -> ──┼──\n",
    "  3 │ 4         1 │ 2\n",
    "dl  │  dr     ul  │  ur\n",
    "\n",
    "\"\"\"\n",
    "\n",
    "\n",
    "# Reverse given quadtree\n",
    "def solution(quadtree):\n",
    "    length = len(quadtree)\n",
    "    pos = -1\n",
    "\n",
    "    def solve():\n",
    "        nonlocal pos\n",
    "        pos += 1\n",
    "        if quadtree[pos] in ('b', 'w'):\n",
    "            return quadtree[pos]\n",
    "\n",
    "        ul = solve()\n",
    "        ur = solve()\n",
    "        dl = solve()\n",
    "        dr = solve()\n",
    "        return 'x' + dl + dr + ul + ur\n",
    "\n",
    "    return solve()\n",
    "\n",
    "\n",
    "C = int(input())\n",
    "for _ in range(C):\n",
    "    quadtree = input()\n",
    "    result = solution(quadtree)\n",
    "    print(result)"
   ]
  },
  {
   "cell_type": "code",
   "execution_count": 4,
   "metadata": {},
   "outputs": [
    {
     "name": "stdout",
     "output_type": "stream",
     "text": [
      "[0.00000286] solution('w') → w\n",
      "[0.00000358] solution('xbwwb') → xwbbw\n",
      "[0.00000477] solution('xbwxwbbwb') → xxbwwbbbw\n",
      "[0.00003529] solution('xxwwwbxwxwbbbwwxxxwwbbbwwwwbb') → xxwbxwwxbbwwbwbxwbwwxwwwxbbwb\n",
      "All tests done.\n"
     ]
    }
   ],
   "source": [
    "\"\"\"\n",
    "Testing\n",
    "\n",
    "\"\"\"\n",
    "import helpers as hlpr\n",
    "\n",
    "f = hlpr.clock(solution)\n",
    "test_cases = [\n",
    "    ((\"w\", ),\n",
    "     \"w\"),\n",
    "    ((\"xbwwb\", ),\n",
    "     \"xwbbw\"),\n",
    "    ((\"xbwxwbbwb\", ),\n",
    "     \"xxbwwbbbw\"),\n",
    "    ((\"xxwwwbxwxwbbbwwxxxwwbbbwwwwbb\", ),\n",
    "     \"xxwbxwwxbbwwbwbxwbwwxwwwxbbwb\"),\n",
    "]\n",
    "\n",
    "fmt = \"Case {} expects {} but got {}\"\n",
    "for idx, tc in enumerate(test_cases):\n",
    "    case, expected = tc\n",
    "    result = f(*case)\n",
    "    assert result == expected, \\\n",
    "        fmt.format(idx, hlpr.truncate(expected, 50), hlpr.truncate(result, 50))\n",
    "\n",
    "hlpr.debug_msg(\"All tests done.\")"
   ]
  },
  {
   "cell_type": "code",
   "execution_count": null,
   "metadata": {},
   "outputs": [],
   "source": [
    "!pip install matplotlib\n",
    "\"\"\"\n",
    "Performance analysis\n",
    "- x-axis: n\n",
    "- y-axis: O(f(n))\n",
    "\n",
    "\"\"\"\n",
    "import matplotlib as plt\n",
    "\n",
    "_"
   ]
  },
  {
   "cell_type": "code",
   "execution_count": null,
   "metadata": {},
   "outputs": [],
   "source": []
  }
 ],
 "metadata": {
  "kernelspec": {
   "display_name": "Python 3",
   "language": "python",
   "name": "python3"
  },
  "language_info": {
   "codemirror_mode": {
    "name": "ipython",
    "version": 3
   },
   "file_extension": ".py",
   "mimetype": "text/x-python",
   "name": "python",
   "nbconvert_exporter": "python",
   "pygments_lexer": "ipython3",
   "version": "3.8.6"
  }
 },
 "nbformat": 4,
 "nbformat_minor": 2
}
